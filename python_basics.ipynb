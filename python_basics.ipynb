{
 "cells": [
  {
   "cell_type": "markdown",
   "id": "0cfd5ef9-25a5-46d8-8327-a41cc41d3617",
   "metadata": {},
   "source": [
    "### Python Basics "
   ]
  },
  {
   "cell_type": "code",
   "execution_count": 5,
   "id": "4272938f-2808-4b39-9b5e-9319e46cfb92",
   "metadata": {},
   "outputs": [],
   "source": [
    "def dummy():\n",
    "    pass"
   ]
  },
  {
   "cell_type": "code",
   "execution_count": 6,
   "id": "0981c6f4-376e-45b8-b928-203d723d3f8a",
   "metadata": {},
   "outputs": [],
   "source": [
    "dummy()"
   ]
  },
  {
   "cell_type": "code",
   "execution_count": 7,
   "id": "f85ee76a-86db-4e63-8e91-8a21d4cfca80",
   "metadata": {},
   "outputs": [],
   "source": [
    "# Fn that returns none type\n",
    "def noneType():\n",
    "    print('This Fn does not return any type')"
   ]
  },
  {
   "cell_type": "code",
   "execution_count": 8,
   "id": "33bcc0a7-4ccb-4ec0-af42-42053637b66a",
   "metadata": {},
   "outputs": [
    {
     "name": "stdout",
     "output_type": "stream",
     "text": [
      "This Fn does not return any type\n"
     ]
    }
   ],
   "source": [
    "noneType()"
   ]
  },
  {
   "cell_type": "code",
   "execution_count": 9,
   "id": "6c5cd490-72b5-4e62-8a8f-5eab4d471523",
   "metadata": {},
   "outputs": [],
   "source": [
    "# Fn with parameters\n",
    "def printName(name):\n",
    "    print(\"Hello, \"+ name )"
   ]
  },
  {
   "cell_type": "code",
   "execution_count": 10,
   "id": "c6a4763b-1cab-4f07-817b-284b30de1a0c",
   "metadata": {},
   "outputs": [
    {
     "name": "stdout",
     "output_type": "stream",
     "text": [
      "Hello, Anoop\n"
     ]
    }
   ],
   "source": [
    "printName('Anoop')"
   ]
  },
  {
   "cell_type": "code",
   "execution_count": 11,
   "id": "93837934-6892-4e48-a523-263f7dbce2ca",
   "metadata": {},
   "outputs": [],
   "source": [
    "# Fn that returns str\n",
    "def strType():\n",
    "    return 'This Fn does not return any type'"
   ]
  },
  {
   "cell_type": "code",
   "execution_count": 14,
   "id": "5eb7528c-8dfa-4a0c-9e79-fea83c3fe7be",
   "metadata": {},
   "outputs": [],
   "source": [
    "test_str = strType()"
   ]
  },
  {
   "cell_type": "code",
   "execution_count": 15,
   "id": "a929348b-b239-4b2c-ac97-d4de7ca8f142",
   "metadata": {},
   "outputs": [
    {
     "data": {
      "text/plain": [
       "'This Fn does not return any type'"
      ]
     },
     "execution_count": 15,
     "metadata": {},
     "output_type": "execute_result"
    }
   ],
   "source": [
    "test_str"
   ]
  },
  {
   "cell_type": "code",
   "execution_count": 17,
   "id": "e668092d-df19-461b-878b-172bef4e3433",
   "metadata": {},
   "outputs": [],
   "source": [
    "# Fn that returns mutltiple tpyes\n",
    "def mulType():\n",
    "    return 1,'a',True"
   ]
  },
  {
   "cell_type": "code",
   "execution_count": 21,
   "id": "bc65faa2-8bee-40ca-80ab-f1c93a5723cd",
   "metadata": {},
   "outputs": [],
   "source": [
    "test_int,test_char,test_bol = mulType()"
   ]
  },
  {
   "cell_type": "code",
   "execution_count": 22,
   "id": "4727c2ff-76a6-4855-af76-84659488a7bd",
   "metadata": {},
   "outputs": [
    {
     "data": {
      "text/plain": [
       "1"
      ]
     },
     "execution_count": 22,
     "metadata": {},
     "output_type": "execute_result"
    }
   ],
   "source": [
    "test_int"
   ]
  },
  {
   "cell_type": "code",
   "execution_count": 23,
   "id": "3544eafb-2d92-48d5-a6d0-346b7e7b39b8",
   "metadata": {},
   "outputs": [
    {
     "data": {
      "text/plain": [
       "'a'"
      ]
     },
     "execution_count": 23,
     "metadata": {},
     "output_type": "execute_result"
    }
   ],
   "source": [
    "test_char"
   ]
  },
  {
   "cell_type": "code",
   "execution_count": 24,
   "id": "255c3fb4-77d8-4577-9f58-15956f8370f2",
   "metadata": {},
   "outputs": [
    {
     "data": {
      "text/plain": [
       "True"
      ]
     },
     "execution_count": 24,
     "metadata": {},
     "output_type": "execute_result"
    }
   ],
   "source": [
    "test_bol"
   ]
  },
  {
   "cell_type": "code",
   "execution_count": 25,
   "id": "9ff0c49a-c2d4-4843-97df-1f8ee3d54353",
   "metadata": {},
   "outputs": [],
   "source": [
    "# Fn with multiple parameters\n",
    "def printNameTitle(name,title):\n",
    "    print(\"Hello, \"+ title + name )"
   ]
  },
  {
   "cell_type": "code",
   "execution_count": 27,
   "id": "bc253eef-a187-4983-8c0d-4348ee2e8c31",
   "metadata": {},
   "outputs": [
    {
     "name": "stdout",
     "output_type": "stream",
     "text": [
      "Hello, Mr. Anoop\n"
     ]
    }
   ],
   "source": [
    "printNameTitle('Anoop','Mr. ')"
   ]
  },
  {
   "cell_type": "code",
   "execution_count": 61,
   "id": "78ff4c56-d4c9-4168-bb5f-68aa35f8b378",
   "metadata": {},
   "outputs": [],
   "source": [
    "# Fn to return any numeric values from a list\n",
    "def getAllNums(lists):\n",
    "    r_list = []\n",
    "    for i in lists:\n",
    "        print(type(i),i)\n",
    "        if type(i) == list :\n",
    "            nums = getAllNums(i)\n",
    "            r_list = r_list + nums\n",
    "        if type(i) == int or type(i) == float:\n",
    "            r_list.append(i)\n",
    "\n",
    "    return r_list\n",
    "            "
   ]
  },
  {
   "cell_type": "code",
   "execution_count": 62,
   "id": "6377d633-945d-40d8-bc58-6663edc2c5fd",
   "metadata": {},
   "outputs": [],
   "source": [
    "l =  [1,2,3,45.3,'Hello',[5,6,7,'Anoop']]"
   ]
  },
  {
   "cell_type": "code",
   "execution_count": 63,
   "id": "96c9e535-4ce3-4415-b4f5-ae5f274fbffd",
   "metadata": {},
   "outputs": [
    {
     "name": "stdout",
     "output_type": "stream",
     "text": [
      "<class 'int'> 1\n",
      "<class 'int'> 2\n",
      "<class 'int'> 3\n",
      "<class 'float'> 45.3\n",
      "<class 'str'> Hello\n",
      "<class 'list'> [5, 6, 7, 'Anoop']\n",
      "<class 'int'> 5\n",
      "<class 'int'> 6\n",
      "<class 'int'> 7\n",
      "<class 'str'> Anoop\n"
     ]
    },
    {
     "data": {
      "text/plain": [
       "[1, 2, 3, 45.3, 5, 6, 7]"
      ]
     },
     "execution_count": 63,
     "metadata": {},
     "output_type": "execute_result"
    }
   ],
   "source": [
    "getAllNums(l)"
   ]
  },
  {
   "cell_type": "code",
   "execution_count": 64,
   "id": "896ab736-6aaa-4bcd-86b4-6e5cd01afcee",
   "metadata": {},
   "outputs": [],
   "source": [
    "# Fn with n number of parameters\n",
    "def nParams(*args):\n",
    "    return args"
   ]
  },
  {
   "cell_type": "code",
   "execution_count": 65,
   "id": "281a4ec4-3957-47a4-ab1e-621e957805bd",
   "metadata": {},
   "outputs": [
    {
     "data": {
      "text/plain": [
       "(1, 2, 34, 4535, 23321, 32, 3, 23)"
      ]
     },
     "execution_count": 65,
     "metadata": {},
     "output_type": "execute_result"
    }
   ],
   "source": [
    "nParams(1,2,34,4535,23321,32,3,23)"
   ]
  },
  {
   "cell_type": "code",
   "execution_count": 71,
   "id": "ee72520d-e496-44bd-9701-6fdb21d716e9",
   "metadata": {},
   "outputs": [],
   "source": [
    "# Fn with n number of parameters and specific mandatory parameters\n",
    "def nParams(*anoop,obj):\n",
    "    return anoop"
   ]
  },
  {
   "cell_type": "code",
   "execution_count": 72,
   "id": "c1b0551d-9e17-4791-82f7-780460d75313",
   "metadata": {},
   "outputs": [
    {
     "data": {
      "text/plain": [
       "(1, 2, 34, 4535, 23321, 32, 3, 23)"
      ]
     },
     "execution_count": 72,
     "metadata": {},
     "output_type": "execute_result"
    }
   ],
   "source": [
    "nParams(1,2,34,4535,23321,32,3,23,obj='Object')"
   ]
  },
  {
   "cell_type": "code",
   "execution_count": 73,
   "id": "fe8db9e3-b659-4c10-a6ed-526d05e3b451",
   "metadata": {},
   "outputs": [],
   "source": [
    "# Fn with n number of parameters but has to have a key value pair relation\n",
    "def nKParams(**kwargs):\n",
    "    return kwargs"
   ]
  },
  {
   "cell_type": "code",
   "execution_count": 76,
   "id": "fa8869ee-fb39-48d7-936d-8601e4cb9836",
   "metadata": {},
   "outputs": [
    {
     "data": {
      "text/plain": [
       "{'a': 1, 'b': 3}"
      ]
     },
     "execution_count": 76,
     "metadata": {},
     "output_type": "execute_result"
    }
   ],
   "source": [
    " nKParams(a=1,b=3)"
   ]
  },
  {
   "cell_type": "code",
   "execution_count": 77,
   "id": "72c45871-f85f-4800-8057-60f8beb8e3d5",
   "metadata": {},
   "outputs": [
    {
     "ename": "SyntaxError",
     "evalue": "positional argument follows keyword argument (350284363.py, line 1)",
     "output_type": "error",
     "traceback": [
      "\u001b[0;36m  Cell \u001b[0;32mIn[77], line 1\u001b[0;36m\u001b[0m\n\u001b[0;31m    nKParams(a=1,b=3,12)\u001b[0m\n\u001b[0m                       ^\u001b[0m\n\u001b[0;31mSyntaxError\u001b[0m\u001b[0;31m:\u001b[0m positional argument follows keyword argument\n"
     ]
    }
   ],
   "source": [
    " nKParams(a=1,b=3,12)"
   ]
  },
  {
   "cell_type": "code",
   "execution_count": 81,
   "id": "afa7f88d-199c-4997-b12b-310b452a256e",
   "metadata": {},
   "outputs": [],
   "source": [
    "# Fn with n number of parameters both key/value and non-key /value\n",
    "def n_K_Params(*args, **kwargs):\n",
    "    return args,kwargs"
   ]
  },
  {
   "cell_type": "code",
   "execution_count": 82,
   "id": "acb1ef29-d313-4c05-9dc2-1a3876646542",
   "metadata": {},
   "outputs": [
    {
     "data": {
      "text/plain": [
       "((1, 2, 3, 4), {'a': 1, 'b': 'fsd'})"
      ]
     },
     "execution_count": 82,
     "metadata": {},
     "output_type": "execute_result"
    }
   ],
   "source": [
    "n_K_Params(1,2,3,4,a=1,b='fsd')"
   ]
  },
  {
   "cell_type": "code",
   "execution_count": null,
   "id": "26c6e22c-3f3e-4c3b-9c3f-37deaa4ed79d",
   "metadata": {},
   "outputs": [],
   "source": []
  }
 ],
 "metadata": {
  "kernelspec": {
   "display_name": "Python 3 (ipykernel)",
   "language": "python",
   "name": "python3"
  },
  "language_info": {
   "codemirror_mode": {
    "name": "ipython",
    "version": 3
   },
   "file_extension": ".py",
   "mimetype": "text/x-python",
   "name": "python",
   "nbconvert_exporter": "python",
   "pygments_lexer": "ipython3",
   "version": "3.10.8"
  }
 },
 "nbformat": 4,
 "nbformat_minor": 5
}
