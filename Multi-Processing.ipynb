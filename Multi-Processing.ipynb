{
 "cells": [
  {
   "cell_type": "markdown",
   "id": "868d7a5c-e5cb-45db-b4fd-5b8408b77a36",
   "metadata": {},
   "source": [
    "#### Multi-Processing"
   ]
  },
  {
   "cell_type": "code",
   "execution_count": 1,
   "id": "3d1cf36a-7418-4461-aaad-aea710a5c0be",
   "metadata": {},
   "outputs": [],
   "source": [
    "import multiprocessing as mp\n",
    "from multiprocessing import Process"
   ]
  },
  {
   "cell_type": "code",
   "execution_count": 2,
   "id": "a15f0a47-7f4b-42ca-9b7a-9ce2d4ff5308",
   "metadata": {},
   "outputs": [],
   "source": [
    "import time\n",
    "import math"
   ]
  },
  {
   "cell_type": "code",
   "execution_count": 3,
   "id": "98627d70-f3a5-49f2-a9c5-1c584ff1a80f",
   "metadata": {},
   "outputs": [],
   "source": [
    "result_one =[]\n",
    "result_two =[]\n",
    "result_three =[]"
   ]
  },
  {
   "cell_type": "code",
   "execution_count": 4,
   "id": "ffa2c042-9f05-4f8a-aab6-0a2feacf5a9a",
   "metadata": {},
   "outputs": [],
   "source": [
    "def process_one(num_list):\n",
    "    for num in num_list:\n",
    "        result_one.append(math.sqrt(num**2))\n",
    "def process_two(num_list):\n",
    "    for num in num_list:\n",
    "        result_two.append(math.sqrt(num**3))\n",
    "def process_three(num_list):\n",
    "    for num in num_list:\n",
    "        result_three.append(math.sqrt(num**4))"
   ]
  },
  {
   "cell_type": "code",
   "execution_count": 5,
   "id": "4d104572-f470-403d-b43e-c34f830d8ab5",
   "metadata": {},
   "outputs": [
    {
     "name": "stdout",
     "output_type": "stream",
     "text": [
      "Regular mode time consumed 16.492961\n"
     ]
    }
   ],
   "source": [
    "start = time.time()\n",
    "number_list = list(range(10000000))\n",
    "process_one(number_list)\n",
    "process_two(number_list)\n",
    "process_three(number_list)\n",
    "end = time.time()\n",
    "print(\"Regular mode time consumed %f\" %(end-start) )"
   ]
  },
  {
   "cell_type": "code",
   "execution_count": 6,
   "id": "14899a7a-6320-4bcd-92e4-cd70352cb692",
   "metadata": {},
   "outputs": [
    {
     "name": "stdout",
     "output_type": "stream",
     "text": [
      "Multi-processing mode time consumed 6.539238\n"
     ]
    }
   ],
   "source": [
    "if __name__ == '__main__':\n",
    "    processes = []\n",
    "    processes.append(Process(target=process_one,args=(number_list,)))\n",
    "    processes.append(Process(target=process_two,args=(number_list,)))\n",
    "    processes.append(Process(target=process_three,args=(number_list,))) \n",
    "    start = time.time()\n",
    "    for process in processes:\n",
    "        process.start()\n",
    "    \n",
    "    for process in processes:\n",
    "        process.join()\n",
    "    end = time.time()\n",
    "    print(\"Multi-processing mode time consumed %f\" %(end-start) )"
   ]
  },
  {
   "cell_type": "markdown",
   "id": "fca610ed-80a2-4ab4-816e-502b66cd512d",
   "metadata": {},
   "source": [
    "#### Multi-Processing Pool"
   ]
  },
  {
   "cell_type": "code",
   "execution_count": 7,
   "id": "c766c9cb-fa71-4c49-accc-bd30c7634ca4",
   "metadata": {},
   "outputs": [],
   "source": [
    "def sqr_cub(n):\n",
    "    return [n**2,n**3]"
   ]
  },
  {
   "cell_type": "code",
   "execution_count": 8,
   "id": "74934806-600c-40e1-af6b-b974040c9b8c",
   "metadata": {},
   "outputs": [
    {
     "name": "stdout",
     "output_type": "stream",
     "text": [
      "[[16, 64], [25, 125], [100, 1000]]\n"
     ]
    }
   ],
   "source": [
    "if __name__ == \"__main__\":\n",
    "    with mp.Pool(processes = 3) as pl:\n",
    "        output = pl.map(sqr_cub,[4,5,10])\n",
    "        print(output)"
   ]
  },
  {
   "cell_type": "markdown",
   "id": "72a0e82d-57c3-43d5-92e6-40f96430e7f9",
   "metadata": {},
   "source": [
    "#### Multi-Processing Queue"
   ]
  },
  {
   "cell_type": "code",
   "execution_count": 11,
   "id": "870b5be4-2588-4580-8abd-1cdbadcd492e",
   "metadata": {},
   "outputs": [],
   "source": [
    "# function to push/add data into the queue\n",
    "def push_to_q(queue,lst):\n",
    "    for item in lst:\n",
    "        queue.put(item)\n",
    "\n",
    "# function to pop/consume data into the queue\n",
    "def pop_from_q(queue):\n",
    "    while True:\n",
    "        q_item = queue.get()\n",
    "        if q_item is None:\n",
    "            break\n",
    "        else:\n",
    "            print( q_item**12 )\n",
    "            return"
   ]
  },
  {
   "cell_type": "code",
   "execution_count": 12,
   "id": "72f85735-8a5f-4117-8eb0-bab3f1135d9c",
   "metadata": {},
   "outputs": [
    {
     "name": "stdout",
     "output_type": "stream",
     "text": [
      "11991163848716906297072721\n"
     ]
    }
   ],
   "source": [
    "if __name__ == \"__main__\":\n",
    "    queue = mp.Queue()\n",
    "    data = [123,1435,634]\n",
    "    q_processes = []\n",
    "    # Producer process\n",
    "    q_processes.append(Process(target=push_to_q,args=(queue,data)))\n",
    "    # Consumer process\n",
    "    q_processes.append(Process(target=pop_from_q,args=(queue,)))\n",
    "    for process in q_processes:\n",
    "        process.start()\n",
    "    for process in q_processes:\n",
    "        process.join()"
   ]
  },
  {
   "cell_type": "markdown",
   "id": "dd180510-7226-4957-bfc3-641db893c206",
   "metadata": {},
   "source": [
    "#### Multi-Processing Array"
   ]
  },
  {
   "cell_type": "code",
   "execution_count": 17,
   "id": "43d74199-0fe0-453b-9856-77876b8a2ea9",
   "metadata": {},
   "outputs": [],
   "source": [
    "shared_array = mp.Array('i',[1,2,3,4])\n",
    "\n",
    "# Function to square elements in an array\n",
    "def square(arr):\n",
    "    for i in range(len(arr)):\n",
    "        arr[i] = arr[i] ** 2\n",
    "    return\n",
    "        \n",
    "# Function to add one to all elements in arrays\n",
    "def add_one(arr):\n",
    "    for i in range(len(arr)):\n",
    "        arr[i] = arr[i] + 1\n",
    "    return"
   ]
  },
  {
   "cell_type": "code",
   "execution_count": 18,
   "id": "c5cd3f8c-340c-40df-9ecd-bd1217b8f3c1",
   "metadata": {},
   "outputs": [
    {
     "name": "stdout",
     "output_type": "stream",
     "text": [
      "[2, 5, 10, 17]\n"
     ]
    }
   ],
   "source": [
    "if __name__ == \"__main__\":\n",
    "    arr_processes = []\n",
    "    # Array manipulation process with square func\n",
    "    arr_processes.append(Process(target=square,args=(shared_array,)))\n",
    "    # Array manipulation process with add one func\n",
    "    arr_processes.append(Process(target=add_one,args=(shared_array,)))\n",
    "    for process in arr_processes:\n",
    "        process.start()\n",
    "    for process in arr_processes:\n",
    "        process.join()\n",
    "    print(list(shared_array))"
   ]
  },
  {
   "cell_type": "markdown",
   "id": "9cc491d4-e68f-4678-9d7b-97772dfd3137",
   "metadata": {},
   "source": [
    "#### Multi-Processing Pipe"
   ]
  },
  {
   "cell_type": "code",
   "execution_count": 22,
   "id": "478e375a-6d5f-480d-afe3-62605a54531f",
   "metadata": {},
   "outputs": [],
   "source": [
    "# Function that sends messages\n",
    "def send_msgs(conn,msgs):\n",
    "    for msg in msgs:\n",
    "        conn.send(msg)\n",
    "    conn.close()\n",
    "\n",
    "# Function that recives messages        \n",
    "def recv_msgs(conn):\n",
    "    while True:\n",
    "        try:\n",
    "            msg = conn.recv()\n",
    "        except Exception as e:\n",
    "            print(e)\n",
    "            break\n",
    "        print(msg)"
   ]
  },
  {
   "cell_type": "code",
   "execution_count": null,
   "id": "fb782e5a-2b27-4642-8f39-590448d5b938",
   "metadata": {},
   "outputs": [
    {
     "name": "stdout",
     "output_type": "stream",
     "text": [
      "Test1\n",
      "Test2\n",
      "Test3\n",
      "Test4\n",
      "Test5\n"
     ]
    }
   ],
   "source": [
    "if __name__ == \"__main__\":\n",
    "    messages = [\"Test1\",\"Test2\",\"Test3\",\"Test4\",\"Test5\"]\n",
    "    sender, reciever = mp.Pipe()\n",
    "    pipe_process = []\n",
    "    # Sender process\n",
    "    pipe_process.append(Process(target=send_msgs,args=(sender,messages,)))\n",
    "    # Reciever process\n",
    "    pipe_process.append(Process(target=recv_msgs,args=(reciever,)))\n",
    "    \n",
    "    for process in pipe_process:\n",
    "        process.start()\n",
    "    \n",
    "    for process in pipe_process:\n",
    "        process.join()\n",
    "    "
   ]
  },
  {
   "cell_type": "code",
   "execution_count": null,
   "id": "c0ace4fa-24b3-4c06-bab1-6a01fef265ae",
   "metadata": {},
   "outputs": [],
   "source": []
  }
 ],
 "metadata": {
  "kernelspec": {
   "display_name": "Python 3 (ipykernel)",
   "language": "python",
   "name": "python3"
  },
  "language_info": {
   "codemirror_mode": {
    "name": "ipython",
    "version": 3
   },
   "file_extension": ".py",
   "mimetype": "text/x-python",
   "name": "python",
   "nbconvert_exporter": "python",
   "pygments_lexer": "ipython3",
   "version": "3.10.8"
  }
 },
 "nbformat": 4,
 "nbformat_minor": 5
}
