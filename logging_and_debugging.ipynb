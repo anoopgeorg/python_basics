{
 "cells": [
  {
   "cell_type": "markdown",
   "id": "9f9ec77f-7724-4e3a-b593-6cb28017eac5",
   "metadata": {},
   "source": [
    "#### Logging and Debugging"
   ]
  },
  {
   "cell_type": "code",
   "execution_count": 1,
   "id": "c3836c7e-b85b-4449-86c8-c4029abf6400",
   "metadata": {},
   "outputs": [],
   "source": [
    "import logging"
   ]
  },
  {
   "cell_type": "code",
   "execution_count": 2,
   "id": "f89e1983-ec07-434e-8820-78faa12945a4",
   "metadata": {},
   "outputs": [],
   "source": [
    "logging.basicConfig(filename = \"test.log\",level=logging.DEBUG)"
   ]
  },
  {
   "cell_type": "code",
   "execution_count": 3,
   "id": "2d6f8867-74b5-4b46-88e9-2452a5337430",
   "metadata": {},
   "outputs": [],
   "source": [
    "logging.info(\"This is a test info log\")"
   ]
  },
  {
   "cell_type": "code",
   "execution_count": 4,
   "id": "5ad0a158-ffcd-4d5a-a754-958346fd66f1",
   "metadata": {},
   "outputs": [],
   "source": [
    "logging.debug(\"This is a test debug log\")"
   ]
  },
  {
   "cell_type": "code",
   "execution_count": 5,
   "id": "7187446e-9d7a-43e1-b1f0-352dad86a35d",
   "metadata": {},
   "outputs": [],
   "source": [
    "logging.critical(\"This is a test critical log\")"
   ]
  },
  {
   "cell_type": "code",
   "execution_count": 6,
   "id": "2b110c2f-3a93-4d8c-9c2f-f95da5ff275c",
   "metadata": {},
   "outputs": [],
   "source": [
    "logging.error(\"This is a test error log\")"
   ]
  },
  {
   "cell_type": "code",
   "execution_count": 7,
   "id": "246c98ff-8d1d-47d2-aaa5-ddfa9b61dfd5",
   "metadata": {},
   "outputs": [],
   "source": [
    "logging.shutdown()"
   ]
  },
  {
   "cell_type": "markdown",
   "id": "9cbce588-5bee-48f3-ab46-4f5698ac6197",
   "metadata": {},
   "source": [
    "##### Logging levels\n",
    "The level we chosse in basic config ensures that we are able to log that level and any level below it.\n",
    "ex: if level= INFO, we will not be able to log DEBUG and NOTSET messages\n",
    "\n",
    "1. NOTSET\n",
    "2. DEBUG\n",
    "3. INFO\n",
    "4. WARNING\n",
    "5. ERROR\n",
    "6. CRITICAL"
   ]
  },
  {
   "cell_type": "code",
   "execution_count": 6,
   "id": "63833a38-449b-4c6a-a6d0-e763e4319173",
   "metadata": {},
   "outputs": [],
   "source": [
    "import time"
   ]
  },
  {
   "cell_type": "code",
   "execution_count": 7,
   "id": "0cff962e-28ee-4df0-9725-0e0a5ff62f6d",
   "metadata": {},
   "outputs": [],
   "source": [
    "def bootstrapper(func):\n",
    "    def timer():\n",
    "        start = time.time()\n",
    "        header_msg = \"Start of the function :\"+ str(func.__name__)\n",
    "        footer_msg = \"End of the function :\"+ str(func.__name__)\n",
    "        logging.basicConfig(filename=\"logs_template.log\",level = logging.DEBUG,format=\"%(asctime)s %(message)s\")\n",
    "        logging.info(header_msg)\n",
    "        func()\n",
    "        end = time.time()\n",
    "        duration = end - start\n",
    "        dureation_msg = str(func.__name__) + \"took :\" + str(duration) \n",
    "        logging.info(footer_msg)\n",
    "        logging.info(dureation_msg)\n",
    "        logging.shutdown()\n",
    "    return timer\n",
    "        "
   ]
  },
  {
   "cell_type": "code",
   "execution_count": 8,
   "id": "17e9ba1f-881f-4d44-8de3-3dff6a7ef602",
   "metadata": {},
   "outputs": [],
   "source": [
    "@bootstrapper\n",
    "def dummy():\n",
    "    for i in range(1000):\n",
    "        logging.info(i)\n",
    "        pass"
   ]
  },
  {
   "cell_type": "code",
   "execution_count": 9,
   "id": "e01d7c86-2f92-4a55-94b3-eed8de77ace1",
   "metadata": {},
   "outputs": [],
   "source": [
    "dummy()"
   ]
  },
  {
   "cell_type": "code",
   "execution_count": null,
   "id": "9236b9e6-1f2e-4a44-8109-5f3f0a2501e7",
   "metadata": {},
   "outputs": [],
   "source": []
  },
  {
   "cell_type": "code",
   "execution_count": null,
   "id": "fba14e23-66e5-4ea5-b3db-5aefd8cc30ea",
   "metadata": {},
   "outputs": [],
   "source": []
  }
 ],
 "metadata": {
  "kernelspec": {
   "display_name": "Python 3 (ipykernel)",
   "language": "python",
   "name": "python3"
  },
  "language_info": {
   "codemirror_mode": {
    "name": "ipython",
    "version": 3
   },
   "file_extension": ".py",
   "mimetype": "text/x-python",
   "name": "python",
   "nbconvert_exporter": "python",
   "pygments_lexer": "ipython3",
   "version": "3.10.8"
  }
 },
 "nbformat": 4,
 "nbformat_minor": 5
}
