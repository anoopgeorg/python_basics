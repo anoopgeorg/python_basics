{
 "cells": [
  {
   "cell_type": "markdown",
   "id": "441fea8c-b78a-4aa3-833a-fa3e57fa89d1",
   "metadata": {},
   "source": [
    "#### Exception handling "
   ]
  },
  {
   "cell_type": "code",
   "execution_count": 1,
   "id": "aee20fce-77cd-484d-8740-7fd21479fa3e",
   "metadata": {},
   "outputs": [],
   "source": [
    "a =10"
   ]
  },
  {
   "cell_type": "code",
   "execution_count": 2,
   "id": "49de1675-768b-4b53-ae7f-4d363ff2c4d1",
   "metadata": {},
   "outputs": [
    {
     "ename": "ZeroDivisionError",
     "evalue": "division by zero",
     "output_type": "error",
     "traceback": [
      "\u001b[0;31m---------------------------------------------------------------------------\u001b[0m",
      "\u001b[0;31mZeroDivisionError\u001b[0m                         Traceback (most recent call last)",
      "Cell \u001b[0;32mIn[2], line 1\u001b[0m\n\u001b[0;32m----> 1\u001b[0m \u001b[43ma\u001b[49m\u001b[38;5;241;43m/\u001b[39;49m\u001b[38;5;241;43m0\u001b[39;49m\n",
      "\u001b[0;31mZeroDivisionError\u001b[0m: division by zero"
     ]
    }
   ],
   "source": [
    "a/0"
   ]
  },
  {
   "cell_type": "code",
   "execution_count": 3,
   "id": "b82f34f7-173e-4253-822a-5761207ebf7b",
   "metadata": {},
   "outputs": [
    {
     "name": "stdout",
     "output_type": "stream",
     "text": [
      "division by zero\n"
     ]
    }
   ],
   "source": [
    "try:\n",
    "    a/0\n",
    "except Exception as e:\n",
    "    print(e)\n",
    "    "
   ]
  },
  {
   "cell_type": "code",
   "execution_count": 6,
   "id": "e5bdf430-8730-4b55-b206-db442fba319b",
   "metadata": {},
   "outputs": [
    {
     "ename": "FileNotFoundError",
     "evalue": "[Errno 2] No such file or directory: 'TESTER_FILE.txt'",
     "output_type": "error",
     "traceback": [
      "\u001b[0;31m---------------------------------------------------------------------------\u001b[0m",
      "\u001b[0;31mFileNotFoundError\u001b[0m                         Traceback (most recent call last)",
      "Cell \u001b[0;32mIn[6], line 1\u001b[0m\n\u001b[0;32m----> 1\u001b[0m \u001b[38;5;28;01mwith\u001b[39;00m \u001b[38;5;28;43mopen\u001b[39;49m\u001b[43m(\u001b[49m\u001b[38;5;124;43m'\u001b[39;49m\u001b[38;5;124;43mTESTER_FILE.txt\u001b[39;49m\u001b[38;5;124;43m'\u001b[39;49m\u001b[43m,\u001b[49m\u001b[38;5;124;43m'\u001b[39;49m\u001b[38;5;124;43mr\u001b[39;49m\u001b[38;5;124;43m'\u001b[39;49m\u001b[43m)\u001b[49m \u001b[38;5;28;01mas\u001b[39;00m f:\n\u001b[1;32m      2\u001b[0m     \u001b[38;5;28mprint\u001b[39m(\u001b[38;5;124m\"\u001b[39m\u001b[38;5;124mfile is opened\u001b[39m\u001b[38;5;124m\"\u001b[39m)\n",
      "File \u001b[0;32m/opt/conda/lib/python3.10/site-packages/IPython/core/interactiveshell.py:282\u001b[0m, in \u001b[0;36m_modified_open\u001b[0;34m(file, *args, **kwargs)\u001b[0m\n\u001b[1;32m    275\u001b[0m \u001b[38;5;28;01mif\u001b[39;00m file \u001b[38;5;129;01min\u001b[39;00m {\u001b[38;5;241m0\u001b[39m, \u001b[38;5;241m1\u001b[39m, \u001b[38;5;241m2\u001b[39m}:\n\u001b[1;32m    276\u001b[0m     \u001b[38;5;28;01mraise\u001b[39;00m \u001b[38;5;167;01mValueError\u001b[39;00m(\n\u001b[1;32m    277\u001b[0m         \u001b[38;5;124mf\u001b[39m\u001b[38;5;124m\"\u001b[39m\u001b[38;5;124mIPython won\u001b[39m\u001b[38;5;124m'\u001b[39m\u001b[38;5;124mt let you open fd=\u001b[39m\u001b[38;5;132;01m{\u001b[39;00mfile\u001b[38;5;132;01m}\u001b[39;00m\u001b[38;5;124m by default \u001b[39m\u001b[38;5;124m\"\u001b[39m\n\u001b[1;32m    278\u001b[0m         \u001b[38;5;124m\"\u001b[39m\u001b[38;5;124mas it is likely to crash IPython. If you know what you are doing, \u001b[39m\u001b[38;5;124m\"\u001b[39m\n\u001b[1;32m    279\u001b[0m         \u001b[38;5;124m\"\u001b[39m\u001b[38;5;124myou can use builtins\u001b[39m\u001b[38;5;124m'\u001b[39m\u001b[38;5;124m open.\u001b[39m\u001b[38;5;124m\"\u001b[39m\n\u001b[1;32m    280\u001b[0m     )\n\u001b[0;32m--> 282\u001b[0m \u001b[38;5;28;01mreturn\u001b[39;00m \u001b[43mio_open\u001b[49m\u001b[43m(\u001b[49m\u001b[43mfile\u001b[49m\u001b[43m,\u001b[49m\u001b[43m \u001b[49m\u001b[38;5;241;43m*\u001b[39;49m\u001b[43margs\u001b[49m\u001b[43m,\u001b[49m\u001b[43m \u001b[49m\u001b[38;5;241;43m*\u001b[39;49m\u001b[38;5;241;43m*\u001b[39;49m\u001b[43mkwargs\u001b[49m\u001b[43m)\u001b[49m\n",
      "\u001b[0;31mFileNotFoundError\u001b[0m: [Errno 2] No such file or directory: 'TESTER_FILE.txt'"
     ]
    }
   ],
   "source": [
    "with open('TESTER_FILE.txt','r') as f:\n",
    "    print(\"file is opened\")"
   ]
  },
  {
   "cell_type": "code",
   "execution_count": 9,
   "id": "4a5c8c09-682a-4e37-a361-18eac4cf05a6",
   "metadata": {},
   "outputs": [
    {
     "name": "stdout",
     "output_type": "stream",
     "text": [
      "Exception occurred:  [Errno 2] No such file or directory: 'TESTER_FILE.txt'\n"
     ]
    }
   ],
   "source": [
    "try:\n",
    "    with open('TESTER_FILE.txt','r') as f:\n",
    "        print(\"file is opened\")\n",
    "except Exception as e:\n",
    "    print(\"Exception occurred: \", e )\n",
    "else:\n",
    "    f.close()\n",
    "    print(\"file is closed\")"
   ]
  },
  {
   "cell_type": "markdown",
   "id": "36981977-437d-4a2b-a833-da4cbcaae382",
   "metadata": {},
   "source": [
    "#### Finally block "
   ]
  },
  {
   "cell_type": "code",
   "execution_count": 10,
   "id": "89bfff55-6d82-4abd-8c95-6dd8a401b102",
   "metadata": {},
   "outputs": [
    {
     "name": "stdout",
     "output_type": "stream",
     "text": [
      "division by zero\n",
      "Will print regardless of execption occurring\n"
     ]
    }
   ],
   "source": [
    "try:\n",
    "    a/0\n",
    "except Exception as e:\n",
    "    print(e)\n",
    "finally:\n",
    "    print(\"Will print regardless of execption occurring\")"
   ]
  },
  {
   "cell_type": "markdown",
   "id": "b4bb9309-8eaa-4897-8ee5-c597e0a6ab99",
   "metadata": {},
   "source": [
    "#### Custom exception handling "
   ]
  },
  {
   "cell_type": "code",
   "execution_count": 12,
   "id": "c9c2c706-f621-49ff-acb9-0717338a35dd",
   "metadata": {},
   "outputs": [
    {
     "name": "stdin",
     "output_type": "stream",
     "text": [
      "Enter age -12\n"
     ]
    }
   ],
   "source": [
    "age = int(input(\"Enter age\"))"
   ]
  },
  {
   "cell_type": "code",
   "execution_count": 24,
   "id": "a03322ec-278e-4e40-a7d2-7354db37eb4f",
   "metadata": {},
   "outputs": [],
   "source": [
    "class validate_age(Exception):\n",
    "    def __init__(self,msg):\n",
    "        self.msg = msg"
   ]
  },
  {
   "cell_type": "code",
   "execution_count": 25,
   "id": "685caf37-786c-439f-b4a0-a1c5048cf34e",
   "metadata": {},
   "outputs": [],
   "source": [
    "def determine_age():\n",
    "    age = int(input(\"Enter age\"))\n",
    "    if age <= 0:\n",
    "        raise validate_age(\"Less than eq 0\")\n",
    "    elif age>105:\n",
    "        raise validate_age(\"Max age reached\")\n",
    "    print(age)"
   ]
  },
  {
   "cell_type": "code",
   "execution_count": 26,
   "id": "e6abd56a-bbd6-4bea-9b4c-933316076a59",
   "metadata": {},
   "outputs": [
    {
     "name": "stdin",
     "output_type": "stream",
     "text": [
      "Enter age 1002\n"
     ]
    },
    {
     "name": "stdout",
     "output_type": "stream",
     "text": [
      "Max age reached\n"
     ]
    }
   ],
   "source": [
    "try:\n",
    "    determine_age()\n",
    "except Exception as e:\n",
    "    print(e)"
   ]
  },
  {
   "cell_type": "markdown",
   "id": "93997a71-a3ca-4dc4-a42b-5781c711f47c",
   "metadata": {},
   "source": [
    "#### List of general exceptions commnly encountered"
   ]
  },
  {
   "cell_type": "code",
   "execution_count": 28,
   "id": "605369a0-f6c9-48d7-9261-caed8e8e354a",
   "metadata": {},
   "outputs": [
    {
     "name": "stdout",
     "output_type": "stream",
     "text": [
      "division by zero\n"
     ]
    }
   ],
   "source": [
    "# zero division error\n",
    "try:\n",
    "    10/0\n",
    "except ZeroDivisionError as e:\n",
    "    print(e)"
   ]
  },
  {
   "cell_type": "code",
   "execution_count": 29,
   "id": "80e2d304-5c1e-496e-b869-3be1cf552874",
   "metadata": {},
   "outputs": [
    {
     "name": "stdout",
     "output_type": "stream",
     "text": [
      "invalid literal for int() with base 10: 'anoop'\n"
     ]
    }
   ],
   "source": [
    "# Conversion error \n",
    "try:\n",
    "    int(\"anoop\")\n",
    "except (ValueError,TypeError) as e:\n",
    "    print(e)"
   ]
  },
  {
   "cell_type": "code",
   "execution_count": 30,
   "id": "8a14c4c5-e150-468f-a4ee-622274374598",
   "metadata": {},
   "outputs": [
    {
     "name": "stdout",
     "output_type": "stream",
     "text": [
      "No module named 'anoop_package'\n"
     ]
    }
   ],
   "source": [
    "# Package import error\n",
    "try:\n",
    "    import anoop_package\n",
    "except ImportError as e:\n",
    "    print(e)"
   ]
  },
  {
   "cell_type": "code",
   "execution_count": 35,
   "id": "c178bd45-553a-46d4-9f21-42402a3ebb0a",
   "metadata": {},
   "outputs": [
    {
     "name": "stdout",
     "output_type": "stream",
     "text": [
      "'k4'\n"
     ]
    }
   ],
   "source": [
    "# Invalid key error\n",
    "try:\n",
    "    d = {'k1':1,'k2':2,'k3':3}\n",
    "    d['k4']\n",
    "except KeyError as e:\n",
    "    print(e)"
   ]
  },
  {
   "cell_type": "code",
   "execution_count": 36,
   "id": "cdc8933e-3ad4-40b9-8ef3-ca6daa130a1d",
   "metadata": {},
   "outputs": [
    {
     "name": "stdout",
     "output_type": "stream",
     "text": [
      "'str' object has no attribute 'test_method'\n"
     ]
    }
   ],
   "source": [
    "# Invlaid function error\n",
    "try:\n",
    "    \"test\".test_method()\n",
    "except AttributeError as e:\n",
    "    print(e)"
   ]
  },
  {
   "cell_type": "code",
   "execution_count": 37,
   "id": "b302b063-66d3-4e88-954e-80c231d80a48",
   "metadata": {},
   "outputs": [
    {
     "name": "stdout",
     "output_type": "stream",
     "text": [
      "list index out of range\n"
     ]
    }
   ],
   "source": [
    "# Invalid index error\n",
    "try:\n",
    "    a= [1,2,3,4,5,6]\n",
    "    a[10]\n",
    "except IndexError as e:\n",
    "    print(e)"
   ]
  },
  {
   "cell_type": "code",
   "execution_count": 38,
   "id": "fbe52733-e05e-4ecf-947a-575915eaa275",
   "metadata": {},
   "outputs": [
    {
     "name": "stdout",
     "output_type": "stream",
     "text": [
      "can only concatenate str (not \"int\") to str\n"
     ]
    }
   ],
   "source": [
    "# Type error\n",
    "try:\n",
    "    \"test\" + 32\n",
    "except TypeError as e:\n",
    "    print(e)"
   ]
  },
  {
   "cell_type": "code",
   "execution_count": 40,
   "id": "5829185a-d060-4c8f-a397-bbb2dbcd45af",
   "metadata": {},
   "outputs": [
    {
     "name": "stdout",
     "output_type": "stream",
     "text": [
      "[Errno 2] No such file or directory: 'file_for_test.txt'\n"
     ]
    }
   ],
   "source": [
    "# Non-existent file read\n",
    "try:\n",
    "    f= open(\"file_for_test.txt\",'r')\n",
    "except FileNotFoundError as e:\n",
    "    print(e)\n",
    "    "
   ]
  },
  {
   "cell_type": "code",
   "execution_count": null,
   "id": "02aeca51-49b9-4ab8-8a03-537be74ad9de",
   "metadata": {},
   "outputs": [],
   "source": []
  }
 ],
 "metadata": {
  "kernelspec": {
   "display_name": "Python 3 (ipykernel)",
   "language": "python",
   "name": "python3"
  },
  "language_info": {
   "codemirror_mode": {
    "name": "ipython",
    "version": 3
   },
   "file_extension": ".py",
   "mimetype": "text/x-python",
   "name": "python",
   "nbconvert_exporter": "python",
   "pygments_lexer": "ipython3",
   "version": "3.10.8"
  }
 },
 "nbformat": 4,
 "nbformat_minor": 5
}
