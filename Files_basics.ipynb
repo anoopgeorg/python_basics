{
 "cells": [
  {
   "cell_type": "markdown",
   "id": "4dc067a0-c7f9-4bb3-b201-8c42c275cbc0",
   "metadata": {},
   "source": [
    "## Files Basics"
   ]
  },
  {
   "cell_type": "code",
   "execution_count": 1,
   "id": "aacc1d9b-8d51-4e22-b4eb-7fb84a61c01a",
   "metadata": {},
   "outputs": [],
   "source": [
    "f = open(\"test.txt\",'w')"
   ]
  },
  {
   "cell_type": "code",
   "execution_count": 2,
   "id": "27b40d3d-09eb-4573-bcdf-807e805ee1b8",
   "metadata": {},
   "outputs": [
    {
     "data": {
      "text/plain": [
       "683"
      ]
     },
     "execution_count": 2,
     "metadata": {},
     "output_type": "execute_result"
    }
   ],
   "source": [
    "f.write(\"Lorem ipsum dolor sit amet, consectetur adipiscing elit. Aenean est felis, mattis id malesuada quis, ultrices nec ante. Curabitur lectus lorem, laoreet sit amet consectetur in, dictum ac nibh. Nam vitae sodales mi. Nam sagittis elit urna, ac ullamcorper libero consequat vitae. Donec tempor feugiat lacus, ut gravida nisi scelerisque a. Morbi purus lorem, facilisis sed fringilla sed, viverra eget dui. Donec ornare eget mauris nec malesuada. Vivamus mollis eleifend velit quis ultrices. Aliquam efficitur ex id mi lacinia convallis. Quisque ut semper quam. Integer sodales velit risus. Integer aliquet purus luctus velit lacinia laoreet. Praesent sodales gravida tortor ac interdum.\")"
   ]
  },
  {
   "cell_type": "code",
   "execution_count": 3,
   "id": "6ad43416-f6f6-4682-a14e-4847544eaffd",
   "metadata": {},
   "outputs": [],
   "source": [
    "f.close()"
   ]
  },
  {
   "cell_type": "code",
   "execution_count": 4,
   "id": "74ad56a9-1097-47e5-9fd5-5deba7c7731e",
   "metadata": {},
   "outputs": [],
   "source": [
    "import os \n",
    "import shutil"
   ]
  },
  {
   "cell_type": "code",
   "execution_count": 5,
   "id": "326f8fc1-a50c-4aad-b60b-0f23404fe485",
   "metadata": {},
   "outputs": [],
   "source": [
    "data = open(\"test.txt\",'r')"
   ]
  },
  {
   "cell_type": "code",
   "execution_count": 6,
   "id": "e5370415-0b25-4d0e-b027-06d94eaa003f",
   "metadata": {},
   "outputs": [
    {
     "data": {
      "text/plain": [
       "'Lorem ipsum dolor sit amet, consectetur adipiscing elit. Aenean est felis, mattis id malesuada quis, ultrices nec ante. Curabitur lectus lorem, laoreet sit amet consectetur in, dictum ac nibh. Nam vitae sodales mi. Nam sagittis elit urna, ac ullamcorper libero consequat vitae. Donec tempor feugiat lacus, ut gravida nisi scelerisque a. Morbi purus lorem, facilisis sed fringilla sed, viverra eget dui. Donec ornare eget mauris nec malesuada. Vivamus mollis eleifend velit quis ultrices. Aliquam efficitur ex id mi lacinia convallis. Quisque ut semper quam. Integer sodales velit risus. Integer aliquet purus luctus velit lacinia laoreet. Praesent sodales gravida tortor ac interdum.'"
      ]
     },
     "execution_count": 6,
     "metadata": {},
     "output_type": "execute_result"
    }
   ],
   "source": [
    "data.read()"
   ]
  },
  {
   "cell_type": "code",
   "execution_count": 7,
   "id": "2d77e1ca-8075-446a-b18a-00735817297a",
   "metadata": {},
   "outputs": [
    {
     "data": {
      "text/plain": [
       "''"
      ]
     },
     "execution_count": 7,
     "metadata": {},
     "output_type": "execute_result"
    }
   ],
   "source": [
    "data.read()"
   ]
  },
  {
   "cell_type": "code",
   "execution_count": 8,
   "id": "4ae456dc-b201-4ea1-8c6b-cf5e74598824",
   "metadata": {},
   "outputs": [
    {
     "data": {
      "text/plain": [
       "0"
      ]
     },
     "execution_count": 8,
     "metadata": {},
     "output_type": "execute_result"
    }
   ],
   "source": [
    "data.seek(0)"
   ]
  },
  {
   "cell_type": "code",
   "execution_count": 9,
   "id": "585e827f-c818-481a-833d-d2e01dab1561",
   "metadata": {},
   "outputs": [
    {
     "data": {
      "text/plain": [
       "'Lorem ipsum dolor sit amet, consectetur adipiscing elit. Aenean est felis, mattis id malesuada quis, ultrices nec ante. Curabitur lectus lorem, laoreet sit amet consectetur in, dictum ac nibh. Nam vitae sodales mi. Nam sagittis elit urna, ac ullamcorper libero consequat vitae. Donec tempor feugiat lacus, ut gravida nisi scelerisque a. Morbi purus lorem, facilisis sed fringilla sed, viverra eget dui. Donec ornare eget mauris nec malesuada. Vivamus mollis eleifend velit quis ultrices. Aliquam efficitur ex id mi lacinia convallis. Quisque ut semper quam. Integer sodales velit risus. Integer aliquet purus luctus velit lacinia laoreet. Praesent sodales gravida tortor ac interdum.'"
      ]
     },
     "execution_count": 9,
     "metadata": {},
     "output_type": "execute_result"
    }
   ],
   "source": [
    "data.read()"
   ]
  },
  {
   "cell_type": "code",
   "execution_count": 10,
   "id": "c51b7764-6775-4b61-8eb8-da00687eb3fb",
   "metadata": {},
   "outputs": [
    {
     "data": {
      "text/plain": [
       "''"
      ]
     },
     "execution_count": 10,
     "metadata": {},
     "output_type": "execute_result"
    }
   ],
   "source": [
    "data.read()"
   ]
  },
  {
   "cell_type": "code",
   "execution_count": 11,
   "id": "bb4a6a50-cb6c-4d4c-ac63-0b36a1dce0cc",
   "metadata": {},
   "outputs": [
    {
     "data": {
      "text/plain": [
       "34"
      ]
     },
     "execution_count": 11,
     "metadata": {},
     "output_type": "execute_result"
    }
   ],
   "source": [
    "data.seek(34)"
   ]
  },
  {
   "cell_type": "code",
   "execution_count": 12,
   "id": "e83334ec-92c3-4a26-9bc3-76c9c3a1cd86",
   "metadata": {},
   "outputs": [
    {
     "data": {
      "text/plain": [
       "'tetur adipiscing elit. Aenean est felis, mattis id malesuada quis, ultrices nec ante. Curabitur lectus lorem, laoreet sit amet consectetur in, dictum ac nibh. Nam vitae sodales mi. Nam sagittis elit urna, ac ullamcorper libero consequat vitae. Donec tempor feugiat lacus, ut gravida nisi scelerisque a. Morbi purus lorem, facilisis sed fringilla sed, viverra eget dui. Donec ornare eget mauris nec malesuada. Vivamus mollis eleifend velit quis ultrices. Aliquam efficitur ex id mi lacinia convallis. Quisque ut semper quam. Integer sodales velit risus. Integer aliquet purus luctus velit lacinia laoreet. Praesent sodales gravida tortor ac interdum.'"
      ]
     },
     "execution_count": 12,
     "metadata": {},
     "output_type": "execute_result"
    }
   ],
   "source": [
    "data.read()"
   ]
  },
  {
   "cell_type": "code",
   "execution_count": 13,
   "id": "eb6663ca-d5c4-4232-af0f-adc428a02808",
   "metadata": {},
   "outputs": [
    {
     "data": {
      "text/plain": [
       "'/home/jovyan/work'"
      ]
     },
     "execution_count": 13,
     "metadata": {},
     "output_type": "execute_result"
    }
   ],
   "source": [
    "pwd"
   ]
  },
  {
   "cell_type": "code",
   "execution_count": 14,
   "id": "a128a4c3-e806-439a-a957-2a6ba658960f",
   "metadata": {},
   "outputs": [
    {
     "name": "stdout",
     "output_type": "stream",
     "text": [
      "Files_basics.ipynb             Python_OOP_basics.ipynb  sample-code.ipynb\n",
      "python_functions_basics.ipynb  README.md                test.txt\n"
     ]
    }
   ],
   "source": [
    "ls"
   ]
  },
  {
   "cell_type": "code",
   "execution_count": 19,
   "id": "863737a6-7424-4311-9e15-7439b38c4623",
   "metadata": {},
   "outputs": [
    {
     "data": {
      "text/plain": [
       "'test_copy.txt'"
      ]
     },
     "execution_count": 19,
     "metadata": {},
     "output_type": "execute_result"
    }
   ],
   "source": [
    "shutil.copyfile(\"test.txt\",\"test_copy.txt\")"
   ]
  },
  {
   "cell_type": "code",
   "execution_count": 20,
   "id": "b3479251-16b7-4c03-b997-837e3599647c",
   "metadata": {},
   "outputs": [
    {
     "name": "stdout",
     "output_type": "stream",
     "text": [
      "Files_basics.ipynb             README.md          test.txt\n",
      "python_functions_basics.ipynb  sample-code.ipynb\n",
      "Python_OOP_basics.ipynb        test_copy.txt\n"
     ]
    }
   ],
   "source": [
    "ls"
   ]
  },
  {
   "cell_type": "code",
   "execution_count": 21,
   "id": "29267a63-6495-4436-9da1-ea940dabb049",
   "metadata": {},
   "outputs": [],
   "source": [
    "os.remove(\"test_copy.txt\")"
   ]
  },
  {
   "cell_type": "code",
   "execution_count": 2,
   "id": "2a862367-e8d8-4645-9920-7964858d6df2",
   "metadata": {},
   "outputs": [
    {
     "name": "stdout",
     "output_type": "stream",
     "text": [
      "Files_basics.ipynb             Python_OOP_basics.ipynb  sample-code.ipynb\n",
      "python_functions_basics.ipynb  README.md                test.txt\n"
     ]
    }
   ],
   "source": [
    "ls"
   ]
  },
  {
   "cell_type": "code",
   "execution_count": 3,
   "id": "df56eac3-22ee-404a-ba2d-8a1dfb2af96e",
   "metadata": {},
   "outputs": [
    {
     "ename": "NameError",
     "evalue": "name 'shutil' is not defined",
     "output_type": "error",
     "traceback": [
      "\u001b[0;31m---------------------------------------------------------------------------\u001b[0m",
      "\u001b[0;31mNameError\u001b[0m                                 Traceback (most recent call last)",
      "Cell \u001b[0;32mIn[3], line 1\u001b[0m\n\u001b[0;32m----> 1\u001b[0m \u001b[43mshutil\u001b[49m\u001b[38;5;241m.\u001b[39mcopyfile(\u001b[38;5;124m\"\u001b[39m\u001b[38;5;124mtest.txt\u001b[39m\u001b[38;5;124m\"\u001b[39m,\u001b[38;5;124m\"\u001b[39m\u001b[38;5;124mtest_copy.txt\u001b[39m\u001b[38;5;124m\"\u001b[39m)\n",
      "\u001b[0;31mNameError\u001b[0m: name 'shutil' is not defined"
     ]
    }
   ],
   "source": [
    "shutil.copyfile(\"test.txt\",\"test_copy.txt\")"
   ]
  },
  {
   "cell_type": "markdown",
   "id": "f1a7ec21-7d9c-47d5-9a04-54c9bdb3da7a",
   "metadata": {},
   "source": [
    "#### Read and write operations"
   ]
  },
  {
   "cell_type": "markdown",
   "id": "942611bf-d2a2-48ae-b07c-d9e03d3ded4d",
   "metadata": {},
   "source": [
    "Dealing with JSON"
   ]
  },
  {
   "cell_type": "code",
   "execution_count": 7,
   "id": "6e8e985d-f314-41f3-8e97-5f66a38b3b48",
   "metadata": {},
   "outputs": [],
   "source": [
    "import json"
   ]
  },
  {
   "cell_type": "code",
   "execution_count": 8,
   "id": "c98cab37-aad2-4a47-80c6-dcb74d83ca2d",
   "metadata": {},
   "outputs": [],
   "source": [
    "data = {\n",
    "\"name\": \"Test_name\",\n",
    "\"age\" : 21,\n",
    "\"company\" : \"Test\",\n",
    "\"attributes\" :[\"atr1\",\"atr2\",\"atr3\"]\n",
    "}"
   ]
  },
  {
   "cell_type": "code",
   "execution_count": 11,
   "id": "2f94f37d-55a2-452a-bb7d-4718f1edfc1f",
   "metadata": {},
   "outputs": [],
   "source": [
    "with open(\"test_json.json\",\"w\" ) as f: \n",
    "    json.dump(data,f)\n",
    "    f.close\n",
    "    "
   ]
  },
  {
   "cell_type": "markdown",
   "id": "3d3180b1-39ee-435c-81b1-4b3808de3183",
   "metadata": {},
   "source": [
    "Dealing with CSV files"
   ]
  },
  {
   "cell_type": "code",
   "execution_count": 12,
   "id": "4a9b1e2f-dffa-4297-80df-593ccbc911a8",
   "metadata": {},
   "outputs": [],
   "source": [
    "data_csv = [[\"Col1\",\"Col2\",\"Col3\"],\n",
    "            [\"l1\",\"l2\",\"l3\"],\n",
    "            [\"v1\",\"V2\",\"v3\"]\n",
    "            ]"
   ]
  },
  {
   "cell_type": "code",
   "execution_count": 13,
   "id": "e0d66d54-cc5c-4010-b036-af1f1e9b0b42",
   "metadata": {},
   "outputs": [],
   "source": [
    "import csv"
   ]
  },
  {
   "cell_type": "code",
   "execution_count": 15,
   "id": "53c230d0-ee65-4aef-aa76-7437632e7379",
   "metadata": {},
   "outputs": [],
   "source": [
    "\n",
    "with open(\"test_csv.csv\",\"w\") as f:\n",
    "    w = csv.writer(f)\n",
    "    for i in data_csv:\n",
    "        w.writerow(i)"
   ]
  },
  {
   "cell_type": "code",
   "execution_count": 16,
   "id": "26cede34-136b-45fa-94a6-d7a28a8beafa",
   "metadata": {},
   "outputs": [
    {
     "name": "stdout",
     "output_type": "stream",
     "text": [
      "['Col1', 'Col2', 'Col3']\n",
      "['l1', 'l2', 'l3']\n",
      "['v1', 'V2', 'v3']\n"
     ]
    }
   ],
   "source": [
    "\n",
    "with open(\"test_csv.csv\",\"r\") as f:\n",
    "    r = csv.reader(f)\n",
    "    for line in r:\n",
    "        print(line)"
   ]
  },
  {
   "cell_type": "markdown",
   "id": "ead1fb6e-90b2-4dcb-88f5-0e5c37ef23c8",
   "metadata": {},
   "source": [
    "Dealing with Binary files"
   ]
  },
  {
   "cell_type": "code",
   "execution_count": 18,
   "id": "2cb4fe34-5354-42a4-b9ab-c226d618fa20",
   "metadata": {},
   "outputs": [],
   "source": [
    "with open(\"test_bin.bin\",\"wb\") as f:\n",
    "    f.write(b\"\\x01\\x02\\x03\")"
   ]
  },
  {
   "cell_type": "code",
   "execution_count": 21,
   "id": "93b30a62-71d5-48c6-ac8b-b6ee0a01f71d",
   "metadata": {},
   "outputs": [
    {
     "name": "stdout",
     "output_type": "stream",
     "text": [
      "b'\\x01\\x02\\x03'\n"
     ]
    }
   ],
   "source": [
    "with open(\"test_bin.bin\",\"rb\") as f:\n",
    "    print(f.read())\n"
   ]
  },
  {
   "cell_type": "markdown",
   "id": "040b4456-00d4-4458-88c8-082310d5ae40",
   "metadata": {},
   "source": [
    "#### Bufffered Read/Wrtie operations"
   ]
  },
  {
   "cell_type": "code",
   "execution_count": 1,
   "id": "c3f12e3a-cd7f-43a6-beb9-4df5cecfd4d6",
   "metadata": {},
   "outputs": [],
   "source": [
    "import io"
   ]
  },
  {
   "cell_type": "code",
   "execution_count": 4,
   "id": "82d26b61-9ac5-4832-946c-ec294f1f9b4e",
   "metadata": {},
   "outputs": [],
   "source": [
    "with open(\"test_buffer.txt\",\"wb\") as f:\n",
    "    file = io.BufferedWriter(f)\n",
    "    file.write(b\"Line one \\n\")\n",
    "    file.write(b\"Line two\")\n",
    "    file.flush()"
   ]
  },
  {
   "cell_type": "code",
   "execution_count": 5,
   "id": "adc12c0d-2fc1-4282-a1a7-6676cd8940ca",
   "metadata": {},
   "outputs": [
    {
     "name": "stdout",
     "output_type": "stream",
     "text": [
      "b'Line one \\nLine two'\n"
     ]
    }
   ],
   "source": [
    "with open(\"test_buffer.txt\",\"rb\") as d:\n",
    "    data = io.BufferedReader(d)\n",
    "    chunk = data.read(1000)\n",
    "    print(chunk)\n",
    "    "
   ]
  },
  {
   "cell_type": "code",
   "execution_count": null,
   "id": "4b68cd67-5df6-4994-a607-36e5d586c791",
   "metadata": {},
   "outputs": [],
   "source": []
  }
 ],
 "metadata": {
  "kernelspec": {
   "display_name": "Python 3 (ipykernel)",
   "language": "python",
   "name": "python3"
  },
  "language_info": {
   "codemirror_mode": {
    "name": "ipython",
    "version": 3
   },
   "file_extension": ".py",
   "mimetype": "text/x-python",
   "name": "python",
   "nbconvert_exporter": "python",
   "pygments_lexer": "ipython3",
   "version": "3.10.8"
  }
 },
 "nbformat": 4,
 "nbformat_minor": 5
}
