{
 "cells": [
  {
   "cell_type": "markdown",
   "id": "0cfd5ef9-25a5-46d8-8327-a41cc41d3617",
   "metadata": {},
   "source": [
    "### Python Basics "
   ]
  },
  {
   "cell_type": "code",
   "execution_count": 5,
   "id": "4272938f-2808-4b39-9b5e-9319e46cfb92",
   "metadata": {},
   "outputs": [],
   "source": [
    "def dummy():\n",
    "    pass"
   ]
  },
  {
   "cell_type": "code",
   "execution_count": 6,
   "id": "0981c6f4-376e-45b8-b928-203d723d3f8a",
   "metadata": {},
   "outputs": [],
   "source": [
    "dummy()"
   ]
  },
  {
   "cell_type": "code",
   "execution_count": 7,
   "id": "f85ee76a-86db-4e63-8e91-8a21d4cfca80",
   "metadata": {},
   "outputs": [],
   "source": [
    "# Fn that returns none type\n",
    "def noneType():\n",
    "    print('This Fn does not return any type')"
   ]
  },
  {
   "cell_type": "code",
   "execution_count": 8,
   "id": "33bcc0a7-4ccb-4ec0-af42-42053637b66a",
   "metadata": {},
   "outputs": [
    {
     "name": "stdout",
     "output_type": "stream",
     "text": [
      "This Fn does not return any type\n"
     ]
    }
   ],
   "source": [
    "noneType()"
   ]
  },
  {
   "cell_type": "code",
   "execution_count": 9,
   "id": "6c5cd490-72b5-4e62-8a8f-5eab4d471523",
   "metadata": {},
   "outputs": [],
   "source": [
    "# Fn with parameters\n",
    "def printName(name):\n",
    "    print(\"Hello, \"+ name )"
   ]
  },
  {
   "cell_type": "code",
   "execution_count": 10,
   "id": "c6a4763b-1cab-4f07-817b-284b30de1a0c",
   "metadata": {},
   "outputs": [
    {
     "name": "stdout",
     "output_type": "stream",
     "text": [
      "Hello, Anoop\n"
     ]
    }
   ],
   "source": [
    "printName('Anoop')"
   ]
  },
  {
   "cell_type": "code",
   "execution_count": 11,
   "id": "93837934-6892-4e48-a523-263f7dbce2ca",
   "metadata": {},
   "outputs": [],
   "source": [
    "# Fn that returns str\n",
    "def strType():\n",
    "    return 'This Fn does not return any type'"
   ]
  },
  {
   "cell_type": "code",
   "execution_count": 14,
   "id": "5eb7528c-8dfa-4a0c-9e79-fea83c3fe7be",
   "metadata": {},
   "outputs": [],
   "source": [
    "test_str = strType()"
   ]
  },
  {
   "cell_type": "code",
   "execution_count": 15,
   "id": "a929348b-b239-4b2c-ac97-d4de7ca8f142",
   "metadata": {},
   "outputs": [
    {
     "data": {
      "text/plain": [
       "'This Fn does not return any type'"
      ]
     },
     "execution_count": 15,
     "metadata": {},
     "output_type": "execute_result"
    }
   ],
   "source": [
    "test_str"
   ]
  },
  {
   "cell_type": "code",
   "execution_count": 17,
   "id": "e668092d-df19-461b-878b-172bef4e3433",
   "metadata": {},
   "outputs": [],
   "source": [
    "# Fn that returns mutltiple tpyes\n",
    "def mulType():\n",
    "    return 1,'a',True"
   ]
  },
  {
   "cell_type": "code",
   "execution_count": 21,
   "id": "bc65faa2-8bee-40ca-80ab-f1c93a5723cd",
   "metadata": {},
   "outputs": [],
   "source": [
    "test_int,test_char,test_bol = mulType()"
   ]
  },
  {
   "cell_type": "code",
   "execution_count": 22,
   "id": "4727c2ff-76a6-4855-af76-84659488a7bd",
   "metadata": {},
   "outputs": [
    {
     "data": {
      "text/plain": [
       "1"
      ]
     },
     "execution_count": 22,
     "metadata": {},
     "output_type": "execute_result"
    }
   ],
   "source": [
    "test_int"
   ]
  },
  {
   "cell_type": "code",
   "execution_count": 23,
   "id": "3544eafb-2d92-48d5-a6d0-346b7e7b39b8",
   "metadata": {},
   "outputs": [
    {
     "data": {
      "text/plain": [
       "'a'"
      ]
     },
     "execution_count": 23,
     "metadata": {},
     "output_type": "execute_result"
    }
   ],
   "source": [
    "test_char"
   ]
  },
  {
   "cell_type": "code",
   "execution_count": 24,
   "id": "255c3fb4-77d8-4577-9f58-15956f8370f2",
   "metadata": {},
   "outputs": [
    {
     "data": {
      "text/plain": [
       "True"
      ]
     },
     "execution_count": 24,
     "metadata": {},
     "output_type": "execute_result"
    }
   ],
   "source": [
    "test_bol"
   ]
  },
  {
   "cell_type": "code",
   "execution_count": 25,
   "id": "9ff0c49a-c2d4-4843-97df-1f8ee3d54353",
   "metadata": {},
   "outputs": [],
   "source": [
    "# Fn with multiple parameters\n",
    "def printNameTitle(name,title):\n",
    "    print(\"Hello, \"+ title + name )"
   ]
  },
  {
   "cell_type": "code",
   "execution_count": 27,
   "id": "bc253eef-a187-4983-8c0d-4348ee2e8c31",
   "metadata": {},
   "outputs": [
    {
     "name": "stdout",
     "output_type": "stream",
     "text": [
      "Hello, Mr. Anoop\n"
     ]
    }
   ],
   "source": [
    "printNameTitle('Anoop','Mr. ')"
   ]
  },
  {
   "cell_type": "code",
   "execution_count": 61,
   "id": "78ff4c56-d4c9-4168-bb5f-68aa35f8b378",
   "metadata": {},
   "outputs": [],
   "source": [
    "# Fn to return any numeric values from a list\n",
    "def getAllNums(lists):\n",
    "    r_list = []\n",
    "    for i in lists:\n",
    "        print(type(i),i)\n",
    "        if type(i) == list :\n",
    "            nums = getAllNums(i)\n",
    "            r_list = r_list + nums\n",
    "        if type(i) == int or type(i) == float:\n",
    "            r_list.append(i)\n",
    "\n",
    "    return r_list\n",
    "            "
   ]
  },
  {
   "cell_type": "code",
   "execution_count": 62,
   "id": "6377d633-945d-40d8-bc58-6663edc2c5fd",
   "metadata": {},
   "outputs": [],
   "source": [
    "l =  [1,2,3,45.3,'Hello',[5,6,7,'Anoop']]"
   ]
  },
  {
   "cell_type": "code",
   "execution_count": 63,
   "id": "96c9e535-4ce3-4415-b4f5-ae5f274fbffd",
   "metadata": {},
   "outputs": [
    {
     "name": "stdout",
     "output_type": "stream",
     "text": [
      "<class 'int'> 1\n",
      "<class 'int'> 2\n",
      "<class 'int'> 3\n",
      "<class 'float'> 45.3\n",
      "<class 'str'> Hello\n",
      "<class 'list'> [5, 6, 7, 'Anoop']\n",
      "<class 'int'> 5\n",
      "<class 'int'> 6\n",
      "<class 'int'> 7\n",
      "<class 'str'> Anoop\n"
     ]
    },
    {
     "data": {
      "text/plain": [
       "[1, 2, 3, 45.3, 5, 6, 7]"
      ]
     },
     "execution_count": 63,
     "metadata": {},
     "output_type": "execute_result"
    }
   ],
   "source": [
    "getAllNums(l)"
   ]
  },
  {
   "cell_type": "code",
   "execution_count": 64,
   "id": "896ab736-6aaa-4bcd-86b4-6e5cd01afcee",
   "metadata": {},
   "outputs": [],
   "source": [
    "# Fn with n number of parameters\n",
    "def nParams(*args):\n",
    "    return args"
   ]
  },
  {
   "cell_type": "code",
   "execution_count": 65,
   "id": "281a4ec4-3957-47a4-ab1e-621e957805bd",
   "metadata": {},
   "outputs": [
    {
     "data": {
      "text/plain": [
       "(1, 2, 34, 4535, 23321, 32, 3, 23)"
      ]
     },
     "execution_count": 65,
     "metadata": {},
     "output_type": "execute_result"
    }
   ],
   "source": [
    "nParams(1,2,34,4535,23321,32,3,23)"
   ]
  },
  {
   "cell_type": "code",
   "execution_count": 71,
   "id": "ee72520d-e496-44bd-9701-6fdb21d716e9",
   "metadata": {},
   "outputs": [],
   "source": [
    "# Fn with n number of parameters and specific mandatory parameters\n",
    "def nParams(*anoop,obj):\n",
    "    return anoop"
   ]
  },
  {
   "cell_type": "code",
   "execution_count": 83,
   "id": "c1b0551d-9e17-4791-82f7-780460d75313",
   "metadata": {},
   "outputs": [
    {
     "data": {
      "text/plain": [
       "(1, 2, 34, 4535, 23321, 32, 3, 23)"
      ]
     },
     "execution_count": 83,
     "metadata": {},
     "output_type": "execute_result"
    }
   ],
   "source": [
    "nParams(1,2,34,4535,23321,32,3,23,obj='Object')"
   ]
  },
  {
   "cell_type": "code",
   "execution_count": 84,
   "id": "fe8db9e3-b659-4c10-a6ed-526d05e3b451",
   "metadata": {},
   "outputs": [],
   "source": [
    "# Fn with n number of parameters but has to have a key value pair relation\n",
    "def nKParams(**kwargs):\n",
    "    return kwargs"
   ]
  },
  {
   "cell_type": "code",
   "execution_count": 85,
   "id": "fa8869ee-fb39-48d7-936d-8601e4cb9836",
   "metadata": {},
   "outputs": [
    {
     "data": {
      "text/plain": [
       "{'a': 1, 'b': 3}"
      ]
     },
     "execution_count": 85,
     "metadata": {},
     "output_type": "execute_result"
    }
   ],
   "source": [
    " nKParams(a=1,b=3)"
   ]
  },
  {
   "cell_type": "code",
   "execution_count": 86,
   "id": "72c45871-f85f-4800-8057-60f8beb8e3d5",
   "metadata": {},
   "outputs": [
    {
     "ename": "SyntaxError",
     "evalue": "positional argument follows keyword argument (350284363.py, line 1)",
     "output_type": "error",
     "traceback": [
      "\u001b[0;36m  Cell \u001b[0;32mIn[86], line 1\u001b[0;36m\u001b[0m\n\u001b[0;31m    nKParams(a=1,b=3,12)\u001b[0m\n\u001b[0m                       ^\u001b[0m\n\u001b[0;31mSyntaxError\u001b[0m\u001b[0;31m:\u001b[0m positional argument follows keyword argument\n"
     ]
    }
   ],
   "source": [
    " nKParams(a=1,b=3,12)"
   ]
  },
  {
   "cell_type": "code",
   "execution_count": 87,
   "id": "afa7f88d-199c-4997-b12b-310b452a256e",
   "metadata": {},
   "outputs": [],
   "source": [
    "# Fn with n number of parameters both key/value and non-key /value\n",
    "def n_K_Params(*args, **kwargs):\n",
    "    return args,kwargs"
   ]
  },
  {
   "cell_type": "code",
   "execution_count": 88,
   "id": "acb1ef29-d313-4c05-9dc2-1a3876646542",
   "metadata": {},
   "outputs": [
    {
     "data": {
      "text/plain": [
       "((1, 2, 3, 4), {'a': 1, 'b': 'fsd'})"
      ]
     },
     "execution_count": 88,
     "metadata": {},
     "output_type": "execute_result"
    }
   ],
   "source": [
    "n_K_Params(1,2,3,4,a=1,b='fsd')"
   ]
  },
  {
   "cell_type": "markdown",
   "id": "02fe00d4-b193-4a20-85dd-57484628715e",
   "metadata": {},
   "source": [
    "#### Generator functions"
   ]
  },
  {
   "cell_type": "code",
   "execution_count": 1,
   "id": "ad207f15-3ab5-4476-8713-3b911eb89f3e",
   "metadata": {},
   "outputs": [],
   "source": [
    "# Used mainly to generate a sequence of values on call by iterator \n",
    "# It is useful in cases where we need to generate values but don't want to store the whole sequence which will consume a lot of memory\n"
   ]
  },
  {
   "cell_type": "code",
   "execution_count": 12,
   "id": "0539436a-1759-444e-b726-c9706dba8e31",
   "metadata": {},
   "outputs": [],
   "source": [
    "# W/O Generator fibonaci series\n",
    "# Since no generator is used the sequence has to be stored in memory\n",
    "def fib(n):\n",
    "    a,b= 0, 1\n",
    "    r=[]\n",
    "    for i in range(n):\n",
    "        r.append(a)\n",
    "        a,b = b,a+b\n",
    "    return r\n",
    "        "
   ]
  },
  {
   "cell_type": "code",
   "execution_count": 13,
   "id": "39f6bd33-f7c3-4eff-b20e-be774e4640e9",
   "metadata": {},
   "outputs": [
    {
     "data": {
      "text/plain": [
       "[0, 1, 1, 2, 3, 5, 8, 13, 21, 34]"
      ]
     },
     "execution_count": 13,
     "metadata": {},
     "output_type": "execute_result"
    }
   ],
   "source": [
    "fib(10)"
   ]
  },
  {
   "cell_type": "code",
   "execution_count": 14,
   "id": "c7de455f-9507-4d1b-bc34-6caed3038432",
   "metadata": {},
   "outputs": [],
   "source": [
    "# With the use of generator we do not store the value in memory\n",
    "# instead we generate the number from sequence on demand\n",
    "def fib_gen(n):\n",
    "    a,b=0,1\n",
    "    for i in range(n):\n",
    "        yield a\n",
    "        a,b=b,a+b"
   ]
  },
  {
   "cell_type": "code",
   "execution_count": 15,
   "id": "ab4cde63-f4f5-4cb6-8665-113a2aed9105",
   "metadata": {},
   "outputs": [
    {
     "data": {
      "text/plain": [
       "<generator object fib_gen at 0x7f29b833bed0>"
      ]
     },
     "execution_count": 15,
     "metadata": {},
     "output_type": "execute_result"
    }
   ],
   "source": [
    "fib_gen(10)"
   ]
  },
  {
   "cell_type": "code",
   "execution_count": 20,
   "id": "1ab0e893-7ed5-4d95-9ac6-4c151d54aac4",
   "metadata": {},
   "outputs": [
    {
     "name": "stdout",
     "output_type": "stream",
     "text": [
      "0\n",
      "1\n",
      "1\n",
      "2\n",
      "3\n",
      "5\n",
      "8\n",
      "13\n",
      "21\n",
      "34\n"
     ]
    }
   ],
   "source": [
    "for i in fib_gen(10):\n",
    "    print(i)"
   ]
  },
  {
   "cell_type": "markdown",
   "id": "b8a39b1c-44ae-4fe2-b206-66501144c144",
   "metadata": {},
   "source": [
    "#### Lambda functions"
   ]
  },
  {
   "cell_type": "code",
   "execution_count": 22,
   "id": "9c66a021-67a4-464c-ba78-2343d7da7603",
   "metadata": {},
   "outputs": [],
   "source": [
    "# Lambda functions are Ad-hoc anonymous functions that can be used to do\n",
    "# simple one-liner operations rather than defing a regular function "
   ]
  },
  {
   "cell_type": "code",
   "execution_count": 23,
   "id": "cadb641d-e5f8-4b58-9ceb-68727039f47b",
   "metadata": {},
   "outputs": [],
   "source": [
    "# Without lambda function\n",
    "def power(a,b):\n",
    "    return a**b"
   ]
  },
  {
   "cell_type": "code",
   "execution_count": 24,
   "id": "6addda31-3419-4f6d-96c7-29cababfa758",
   "metadata": {},
   "outputs": [
    {
     "data": {
      "text/plain": [
       "16"
      ]
     },
     "execution_count": 24,
     "metadata": {},
     "output_type": "execute_result"
    }
   ],
   "source": [
    "power(2,4)"
   ]
  },
  {
   "cell_type": "code",
   "execution_count": 26,
   "id": "dcd29f48-36a5-4171-8f40-520ba58eaba5",
   "metadata": {},
   "outputs": [],
   "source": [
    "# With lambda function\n",
    "pow = lambda n,p: n**p"
   ]
  },
  {
   "cell_type": "code",
   "execution_count": 27,
   "id": "5658ae92-6cf4-4d82-b4f9-89d3a7894e9e",
   "metadata": {},
   "outputs": [
    {
     "data": {
      "text/plain": [
       "94143178827"
      ]
     },
     "execution_count": 27,
     "metadata": {},
     "output_type": "execute_result"
    }
   ],
   "source": [
    "pow(3,23)"
   ]
  },
  {
   "cell_type": "code",
   "execution_count": 28,
   "id": "faa8c815-8c8f-4e86-b30b-92a10d0ad64d",
   "metadata": {},
   "outputs": [
    {
     "data": {
      "text/plain": [
       "<function __main__.<lambda>(n, p)>"
      ]
     },
     "execution_count": 28,
     "metadata": {},
     "output_type": "execute_result"
    }
   ],
   "source": [
    "lambda n,p: n**p"
   ]
  },
  {
   "cell_type": "markdown",
   "id": "b47d6fcf-0d16-48d6-8d14-bcf5e4f5f25a",
   "metadata": {},
   "source": [
    "#### Map, Reduce, Filter functions"
   ]
  },
  {
   "cell_type": "code",
   "execution_count": 29,
   "id": "174ebfdb-fbf9-4a55-b2c3-56e00ebc1f2c",
   "metadata": {},
   "outputs": [],
   "source": [
    "# These are again shorthand functions that can be used to implement \n",
    "# one-liner code "
   ]
  },
  {
   "cell_type": "markdown",
   "id": "d4e108fa-68ca-429f-9a56-a2c4019138c8",
   "metadata": {},
   "source": [
    "#### Map Function\n",
    "It simply takes a function and the iterables as input and gives the output by iterating the iterables and applying the function and returning the values as an object that can be stored in a list. It basically maps the function to each element in the iterable."
   ]
  },
  {
   "cell_type": "code",
   "execution_count": 60,
   "id": "3cf62663-38c0-4c27-be19-9f4459a20697",
   "metadata": {},
   "outputs": [
    {
     "name": "stdout",
     "output_type": "stream",
     "text": [
      "[1, 4, 9, 16, 25, 36, 53824]\n"
     ]
    }
   ],
   "source": [
    "# Without map funcitons\n",
    "def sqr(i):\n",
    "    return i**2\n",
    "# Try to squarethe list using the above function\n",
    "l = [1,2,3,4,5,6,232]\n",
    "result_list = []\n",
    "for i in l:\n",
    "    result_list.append(sqr(i))\n",
    "\n",
    "print(result_list)"
   ]
  },
  {
   "cell_type": "code",
   "execution_count": 61,
   "id": "3f4d7489-a66f-4954-a786-be2a058c3a03",
   "metadata": {},
   "outputs": [
    {
     "data": {
      "text/plain": [
       "<map at 0x7f29b9c3a530>"
      ]
     },
     "execution_count": 61,
     "metadata": {},
     "output_type": "execute_result"
    }
   ],
   "source": [
    "# With map functions\n",
    "map(sqr,l)"
   ]
  },
  {
   "cell_type": "code",
   "execution_count": 62,
   "id": "5a0c40d8-5e65-46b5-85e1-6df913b313d5",
   "metadata": {},
   "outputs": [
    {
     "data": {
      "text/plain": [
       "[1, 4, 9, 16, 25, 36, 53824]"
      ]
     },
     "execution_count": 62,
     "metadata": {},
     "output_type": "execute_result"
    }
   ],
   "source": [
    "list(map(sqr,l))"
   ]
  },
  {
   "cell_type": "code",
   "execution_count": 63,
   "id": "e0a1c4fe-a9ef-4d7d-995f-e45c70a5973a",
   "metadata": {},
   "outputs": [
    {
     "data": {
      "text/plain": [
       "[1, 4, 9, 16, 25, 36, 53824]"
      ]
     },
     "execution_count": 63,
     "metadata": {},
     "output_type": "execute_result"
    }
   ],
   "source": [
    "# Map + Lambda\n",
    "list(map(lambda x: x**2,l))"
   ]
  },
  {
   "cell_type": "code",
   "execution_count": 64,
   "id": "86a29967-ad11-4351-8351-889c181a1a46",
   "metadata": {},
   "outputs": [
    {
     "data": {
      "text/plain": [
       "[101, 104, 105]"
      ]
     },
     "execution_count": 64,
     "metadata": {},
     "output_type": "execute_result"
    }
   ],
   "source": [
    "# add 2 list with map \n",
    "l1 =[1,2,3]\n",
    "l2 = [100,102,102]\n",
    "list(map(lambda x,y:x+y,l1,l2))"
   ]
  },
  {
   "cell_type": "markdown",
   "id": "3b2bf0ec-9d0b-4876-9f72-48bb8e642b36",
   "metadata": {},
   "source": [
    "#### Reduce Function"
   ]
  },
  {
   "cell_type": "markdown",
   "id": "75caf35d-a90d-4ef6-beea-d53a8b39d139",
   "metadata": {},
   "source": [
    "The reduce function is used to apply certain operations to a list such that\n",
    "at the end of the operation we end up with only one value \n",
    "* *Reduce only allows funcctions with 2 parameters only*\n"
   ]
  },
  {
   "cell_type": "code",
   "execution_count": 69,
   "id": "9a28d8c6-ef67-4c27-bb09-99c68907c7e9",
   "metadata": {},
   "outputs": [],
   "source": [
    "from functools import reduce\n"
   ]
  },
  {
   "cell_type": "code",
   "execution_count": 70,
   "id": "2468c695-1164-4d7c-8330-56062dee90de",
   "metadata": {},
   "outputs": [],
   "source": [
    "l = [1,2,3,4,5,6,7,8,9,10,11]"
   ]
  },
  {
   "cell_type": "code",
   "execution_count": 71,
   "id": "ca4d18c3-2123-4321-9018-d7dfbe0418ce",
   "metadata": {},
   "outputs": [
    {
     "data": {
      "text/plain": [
       "66"
      ]
     },
     "execution_count": 71,
     "metadata": {},
     "output_type": "execute_result"
    }
   ],
   "source": [
    "reduce(lambda x,y:x+y,l)"
   ]
  },
  {
   "cell_type": "code",
   "execution_count": 72,
   "id": "10ea3caa-fd17-4563-808f-c6b64df96008",
   "metadata": {},
   "outputs": [
    {
     "data": {
      "text/plain": [
       "1531"
      ]
     },
     "execution_count": 72,
     "metadata": {},
     "output_type": "execute_result"
    }
   ],
   "source": [
    "l3 = [6,327,8,9,310,1531,1,234,3,4,5]\n",
    "reduce(lambda x,y: x if x>y else y,l3)"
   ]
  },
  {
   "cell_type": "markdown",
   "id": "aade911f-39cc-4686-b39b-3af05dfd1855",
   "metadata": {},
   "source": [
    "#### Reduce Function"
   ]
  },
  {
   "cell_type": "markdown",
   "id": "cefbfadc-d274-4bd7-8d2b-85c2028a8ef7",
   "metadata": {},
   "source": [
    "Takes a function and list as its parameters and applies the function on the list and filters the elements that are not statisfied by the function."
   ]
  },
  {
   "cell_type": "code",
   "execution_count": 73,
   "id": "969b9faf-b094-482d-9525-2b12a6382353",
   "metadata": {},
   "outputs": [],
   "source": [
    "l4 = [6,-327,8,9,310,-1531,1,234,-3,4,5]"
   ]
  },
  {
   "cell_type": "code",
   "execution_count": 74,
   "id": "c5df6501-1233-4b84-87f6-84c9fd367af7",
   "metadata": {},
   "outputs": [
    {
     "data": {
      "text/plain": [
       "[6, 8, 9, 310, 1, 234, 4, 5]"
      ]
     },
     "execution_count": 74,
     "metadata": {},
     "output_type": "execute_result"
    }
   ],
   "source": [
    "list(filter(lambda x: x >0,l4))"
   ]
  }
 ],
 "metadata": {
  "kernelspec": {
   "display_name": "Python 3 (ipykernel)",
   "language": "python",
   "name": "python3"
  },
  "language_info": {
   "codemirror_mode": {
    "name": "ipython",
    "version": 3
   },
   "file_extension": ".py",
   "mimetype": "text/x-python",
   "name": "python",
   "nbconvert_exporter": "python",
   "pygments_lexer": "ipython3",
   "version": "3.10.8"
  }
 },
 "nbformat": 4,
 "nbformat_minor": 5
}
