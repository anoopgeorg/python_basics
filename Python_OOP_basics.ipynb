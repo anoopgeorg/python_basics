{
 "cells": [
  {
   "cell_type": "markdown",
   "id": "2c956cfc-50e1-4ce5-b95c-28ed09cf6e04",
   "metadata": {},
   "source": [
    "## OOPs Basics"
   ]
  },
  {
   "cell_type": "code",
   "execution_count": 13,
   "id": "cf895a2f-ef8b-4ed2-8952-47156f6446ba",
   "metadata": {},
   "outputs": [],
   "source": [
    "class test:\n",
    "    t1 = []\n",
    "    \n",
    "    def welcome_msg(self):\n",
    "        print(\"Welcome\")"
   ]
  },
  {
   "cell_type": "code",
   "execution_count": 14,
   "id": "3c47663e-de6c-4867-bd1d-d00d37e8088d",
   "metadata": {},
   "outputs": [],
   "source": [
    "obj = test()"
   ]
  },
  {
   "cell_type": "code",
   "execution_count": 15,
   "id": "dd267a90-b56f-424b-a886-55f0c90341c6",
   "metadata": {},
   "outputs": [
    {
     "name": "stdout",
     "output_type": "stream",
     "text": [
      "Welcome\n"
     ]
    }
   ],
   "source": [
    "obj.welcome_msg()"
   ]
  },
  {
   "cell_type": "code",
   "execution_count": 16,
   "id": "fc29430d-91f0-48b7-9a8c-079bfd4bb6ad",
   "metadata": {},
   "outputs": [],
   "source": [
    "class constructor_samp:\n",
    "    \n",
    "    # Constructor\n",
    "    def __init__(self,name,age):\n",
    "        self.name = name\n",
    "        self.age = age\n",
    "        \n",
    "    # Get method\n",
    "    def get_details(self):\n",
    "        return self.name, self.age\n",
    "        "
   ]
  },
  {
   "cell_type": "code",
   "execution_count": 17,
   "id": "d9e20346-f1f8-4b6b-85ca-aed2cfd34d65",
   "metadata": {},
   "outputs": [],
   "source": [
    "obj1 = constructor_samp(\"Anoop\",27)"
   ]
  },
  {
   "cell_type": "code",
   "execution_count": 18,
   "id": "cf123ec4-677f-412d-9318-de7ccf22e334",
   "metadata": {},
   "outputs": [
    {
     "data": {
      "text/plain": [
       "('Anoop', 27)"
      ]
     },
     "execution_count": 18,
     "metadata": {},
     "output_type": "execute_result"
    }
   ],
   "source": [
    "obj1.get_details()"
   ]
  },
  {
   "cell_type": "code",
   "execution_count": 19,
   "id": "48e25482-edb0-4273-a306-045afabd95b1",
   "metadata": {},
   "outputs": [],
   "source": [
    "# Self is not a keyword but a reference to the class\n",
    "# It can be anything for Ex check below - Instead of \"self\" I'm using \"student\"\n",
    "class constructor_samp1:\n",
    "    \n",
    "    # Constructor\n",
    "    def __init__(student,name,age):\n",
    "        student.name = name\n",
    "        student.age = age\n",
    "        \n",
    "    # Get method\n",
    "    def get_details(student):\n",
    "        return student.name, student.age"
   ]
  },
  {
   "cell_type": "code",
   "execution_count": 20,
   "id": "f269b64b-8a28-4757-a966-0444ed63b658",
   "metadata": {},
   "outputs": [],
   "source": [
    "obj2 = constructor_samp(\"Anoop_123\",27)"
   ]
  },
  {
   "cell_type": "code",
   "execution_count": 21,
   "id": "76873aab-4eb8-4604-be82-0f207ffefbaa",
   "metadata": {},
   "outputs": [
    {
     "data": {
      "text/plain": [
       "('Anoop_123', 27)"
      ]
     },
     "execution_count": 21,
     "metadata": {},
     "output_type": "execute_result"
    }
   ],
   "source": [
    "obj2.get_details()"
   ]
  },
  {
   "cell_type": "code",
   "execution_count": null,
   "id": "8c355a08-86b9-4b49-b7a3-ccc34013f128",
   "metadata": {},
   "outputs": [],
   "source": []
  }
 ],
 "metadata": {
  "kernelspec": {
   "display_name": "Python 3 (ipykernel)",
   "language": "python",
   "name": "python3"
  },
  "language_info": {
   "codemirror_mode": {
    "name": "ipython",
    "version": 3
   },
   "file_extension": ".py",
   "mimetype": "text/x-python",
   "name": "python",
   "nbconvert_exporter": "python",
   "pygments_lexer": "ipython3",
   "version": "3.10.8"
  }
 },
 "nbformat": 4,
 "nbformat_minor": 5
}
