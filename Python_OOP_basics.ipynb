{
 "cells": [
  {
   "cell_type": "markdown",
   "id": "2c956cfc-50e1-4ce5-b95c-28ed09cf6e04",
   "metadata": {},
   "source": [
    "## OOPs Basics"
   ]
  },
  {
   "cell_type": "code",
   "execution_count": 13,
   "id": "cf895a2f-ef8b-4ed2-8952-47156f6446ba",
   "metadata": {},
   "outputs": [],
   "source": [
    "class test:\n",
    "    t1 = []\n",
    "    \n",
    "    def welcome_msg(self):\n",
    "        print(\"Welcome\")"
   ]
  },
  {
   "cell_type": "code",
   "execution_count": 14,
   "id": "3c47663e-de6c-4867-bd1d-d00d37e8088d",
   "metadata": {},
   "outputs": [],
   "source": [
    "obj = test()"
   ]
  },
  {
   "cell_type": "code",
   "execution_count": 15,
   "id": "dd267a90-b56f-424b-a886-55f0c90341c6",
   "metadata": {},
   "outputs": [
    {
     "name": "stdout",
     "output_type": "stream",
     "text": [
      "Welcome\n"
     ]
    }
   ],
   "source": [
    "obj.welcome_msg()"
   ]
  },
  {
   "cell_type": "code",
   "execution_count": 16,
   "id": "fc29430d-91f0-48b7-9a8c-079bfd4bb6ad",
   "metadata": {},
   "outputs": [],
   "source": [
    "class constructor_samp:\n",
    "    \n",
    "    # Constructor\n",
    "    def __init__(self,name,age):\n",
    "        self.name = name\n",
    "        self.age = age\n",
    "        \n",
    "    # Get method\n",
    "    def get_details(self):\n",
    "        return self.name, self.age\n",
    "        "
   ]
  },
  {
   "cell_type": "code",
   "execution_count": 17,
   "id": "d9e20346-f1f8-4b6b-85ca-aed2cfd34d65",
   "metadata": {},
   "outputs": [],
   "source": [
    "obj1 = constructor_samp(\"Anoop\",27)"
   ]
  },
  {
   "cell_type": "code",
   "execution_count": 18,
   "id": "cf123ec4-677f-412d-9318-de7ccf22e334",
   "metadata": {},
   "outputs": [
    {
     "data": {
      "text/plain": [
       "('Anoop', 27)"
      ]
     },
     "execution_count": 18,
     "metadata": {},
     "output_type": "execute_result"
    }
   ],
   "source": [
    "obj1.get_details()"
   ]
  },
  {
   "cell_type": "code",
   "execution_count": 19,
   "id": "48e25482-edb0-4273-a306-045afabd95b1",
   "metadata": {},
   "outputs": [],
   "source": [
    "# Self is not a keyword but a reference to the class\n",
    "# It can be anything for Ex check below - Instead of \"self\" I'm using \"student\"\n",
    "class constructor_samp1:\n",
    "    \n",
    "    # Constructor\n",
    "    def __init__(student,name,age):\n",
    "        student.name = name\n",
    "        student.age = age\n",
    "        \n",
    "    # Get method\n",
    "    def get_details(student):\n",
    "        return student.name, student.age"
   ]
  },
  {
   "cell_type": "code",
   "execution_count": 20,
   "id": "f269b64b-8a28-4757-a966-0444ed63b658",
   "metadata": {},
   "outputs": [],
   "source": [
    "obj2 = constructor_samp(\"Anoop_123\",27)"
   ]
  },
  {
   "cell_type": "code",
   "execution_count": 21,
   "id": "76873aab-4eb8-4604-be82-0f207ffefbaa",
   "metadata": {},
   "outputs": [
    {
     "data": {
      "text/plain": [
       "('Anoop_123', 27)"
      ]
     },
     "execution_count": 21,
     "metadata": {},
     "output_type": "execute_result"
    }
   ],
   "source": [
    "obj2.get_details()"
   ]
  },
  {
   "cell_type": "markdown",
   "id": "c319ca39-4f94-41e7-836e-99943befb521",
   "metadata": {},
   "source": [
    "### Polymorphism"
   ]
  },
  {
   "cell_type": "code",
   "execution_count": 22,
   "id": "8dd8d5ce-a07d-45ef-8444-7670f5345c5b",
   "metadata": {},
   "outputs": [],
   "source": [
    "# Simple example of polymorphism of functions\n",
    "def poly_morph(a,b):\n",
    "    return a + b"
   ]
  },
  {
   "cell_type": "code",
   "execution_count": 23,
   "id": "a30211f1-c9c4-4ce7-bda3-2602e60dd11a",
   "metadata": {},
   "outputs": [
    {
     "data": {
      "text/plain": [
       "3"
      ]
     },
     "execution_count": 23,
     "metadata": {},
     "output_type": "execute_result"
    }
   ],
   "source": [
    "poly_morph(1,2)"
   ]
  },
  {
   "cell_type": "code",
   "execution_count": 24,
   "id": "657d5162-dc18-40c2-83da-4be172c22e39",
   "metadata": {},
   "outputs": [
    {
     "data": {
      "text/plain": [
       "'PolyTEST'"
      ]
     },
     "execution_count": 24,
     "metadata": {},
     "output_type": "execute_result"
    }
   ],
   "source": [
    "poly_morph(\"Poly\",\"TEST\")"
   ]
  },
  {
   "cell_type": "code",
   "execution_count": 25,
   "id": "e3d07ad3-9c20-4ead-bdec-370d1b775de1",
   "metadata": {},
   "outputs": [
    {
     "data": {
      "text/plain": [
       "[42342, 234, 12, 34, 53]"
      ]
     },
     "execution_count": 25,
     "metadata": {},
     "output_type": "execute_result"
    }
   ],
   "source": [
    "poly_morph([42342,234],[12,34,53])"
   ]
  },
  {
   "cell_type": "code",
   "execution_count": 33,
   "id": "4ad65e56-6937-414e-9ff7-e670cd92ca7c",
   "metadata": {},
   "outputs": [],
   "source": [
    "# Simple example of Polymorphism of Classes\n",
    "# The ability to treat 2 different classes in the same manner - This is true as long as the classes share the same interface\n",
    "class poly_cla_1:\n",
    "    def print_log(self):\n",
    "        print(\"This is poly_cla_1\")\n",
    "class poly_cla_2:\n",
    "    def print_log(self):\n",
    "        print(\"This is poly_cla_2\")\n",
    "poly_1 = poly_cla_1()\n",
    "poly_2 = poly_cla_2()\n",
    "classes = [poly_1,poly_2]\n",
    "\n",
    "def class_parcer(class_list):\n",
    "    for cla in class_list:\n",
    "        cla.print_log()\n",
    "    \n",
    "    "
   ]
  },
  {
   "cell_type": "code",
   "execution_count": 34,
   "id": "8478da85-125f-4b33-8684-fd09b69c9eb6",
   "metadata": {},
   "outputs": [
    {
     "name": "stdout",
     "output_type": "stream",
     "text": [
      "This is poly_cla_1\n",
      "This is poly_cla_2\n"
     ]
    }
   ],
   "source": [
    "class_parcer(classes)"
   ]
  },
  {
   "cell_type": "markdown",
   "id": "d69f8ccf-bead-40c1-88df-f78a7e8958c5",
   "metadata": {},
   "source": [
    "### Encapsulation\n",
    "It describes the idea of wrapping data and the methods that work on data within one unit. This puts restrictions on accessing variables and methods directly and can prevent the accidental modification of data. To prevent accidental change, an object’s variable can only be changed by an object’s method. Those types of variables are known as private variables."
   ]
  },
  {
   "cell_type": "code",
   "execution_count": 42,
   "id": "b2887f78-7183-4969-a903-fd8397de8155",
   "metadata": {},
   "outputs": [],
   "source": [
    "# W/o Encapsulation\n",
    "class encap_class:\n",
    "    \n",
    "    def __init__(self,a,b):\n",
    "        self.a = a\n",
    "        self.b = b\n",
    "        "
   ]
  },
  {
   "cell_type": "code",
   "execution_count": 43,
   "id": "cc07c65b-c13e-4357-b267-dbb1ffcd3bce",
   "metadata": {},
   "outputs": [],
   "source": [
    "encap_obj = encap_class(2,3)"
   ]
  },
  {
   "cell_type": "code",
   "execution_count": 44,
   "id": "0fd634db-8ee6-49f7-870b-f75d6e71435b",
   "metadata": {},
   "outputs": [
    {
     "data": {
      "text/plain": [
       "2"
      ]
     },
     "execution_count": 44,
     "metadata": {},
     "output_type": "execute_result"
    }
   ],
   "source": [
    "encap_obj.a"
   ]
  },
  {
   "cell_type": "code",
   "execution_count": 41,
   "id": "56d25d40-ce48-4f4e-a67f-2f0cf2fa6443",
   "metadata": {},
   "outputs": [
    {
     "data": {
      "text/plain": [
       "3"
      ]
     },
     "execution_count": 41,
     "metadata": {},
     "output_type": "execute_result"
    }
   ],
   "source": [
    "encap_obj.b"
   ]
  },
  {
   "cell_type": "code",
   "execution_count": 54,
   "id": "be540bdd-e8af-4761-82d0-fa4c6139076e",
   "metadata": {},
   "outputs": [],
   "source": [
    "# With Encapsulation using private variable (__VARNAME)\n",
    "class encap_class1:\n",
    "    \n",
    "    def __init__(self,a,b):\n",
    "        self.__a = a\n",
    "        self.__b = b\n",
    "        \n",
    "    def get_a(self):\n",
    "        return self.__a\n",
    "    def get_b(self):\n",
    "        return self.__b\n",
    "        "
   ]
  },
  {
   "cell_type": "code",
   "execution_count": 55,
   "id": "09912734-5eaa-4c69-bf6c-5743d24d920c",
   "metadata": {},
   "outputs": [],
   "source": [
    "encap_obj1 = encap_class1(1,2)"
   ]
  },
  {
   "cell_type": "code",
   "execution_count": 56,
   "id": "1096ca25-cbb5-4074-b179-e2d91ed28fdd",
   "metadata": {},
   "outputs": [
    {
     "data": {
      "text/plain": [
       "1"
      ]
     },
     "execution_count": 56,
     "metadata": {},
     "output_type": "execute_result"
    }
   ],
   "source": [
    "encap_obj1.get_a()"
   ]
  },
  {
   "cell_type": "code",
   "execution_count": 63,
   "id": "8a324058-cc14-42c7-b4d8-857b83448d0d",
   "metadata": {},
   "outputs": [],
   "source": [
    "# Encapsulation sample\n",
    "class bnk_acc:\n",
    "    \n",
    "    def __init__(self,name,init_amt):\n",
    "        self.__name     = name\n",
    "        self.__init_amt = init_amt \n",
    "        self.__balance  = 0\n",
    "        self.deposit(init_amt)\n",
    "        \n",
    "    def deposit(self,amt):\n",
    "        self.__balance = self.__balance + amt\n",
    "        print(\"Balance:\",self.__balance)\n",
    "        \n",
    "        \n",
    "    def withdraw(self,amt):\n",
    "        if amt > 0 and self.__balance > amt :\n",
    "            self.__balance = self.__balance - amt\n",
    "            print(\"Balance:\",self.__balance)    \n",
    "            return True\n",
    "        else:\n",
    "            return False\n",
    "\n",
    "    def get_balance(self):\n",
    "        return self.__balance"
   ]
  },
  {
   "cell_type": "code",
   "execution_count": 64,
   "id": "1e109eb2-c4b7-4a3c-8834-04287b549fa5",
   "metadata": {},
   "outputs": [
    {
     "name": "stdout",
     "output_type": "stream",
     "text": [
      "Balance: 10000\n"
     ]
    }
   ],
   "source": [
    "anoop_acc = bnk_acc(\"Anoop\",10000)"
   ]
  },
  {
   "cell_type": "code",
   "execution_count": 65,
   "id": "e4e7cc5a-ffe8-43ae-b76a-cd3ac1517523",
   "metadata": {},
   "outputs": [
    {
     "name": "stdout",
     "output_type": "stream",
     "text": [
      "Balance: 210000\n"
     ]
    }
   ],
   "source": [
    "anoop_acc.deposit(200000)"
   ]
  },
  {
   "cell_type": "code",
   "execution_count": 66,
   "id": "9f9b8a6c-820c-4e3f-9e4a-4cd596f7a90b",
   "metadata": {},
   "outputs": [
    {
     "data": {
      "text/plain": [
       "False"
      ]
     },
     "execution_count": 66,
     "metadata": {},
     "output_type": "execute_result"
    }
   ],
   "source": [
    "anoop_acc.withdraw(20000000)"
   ]
  },
  {
   "cell_type": "markdown",
   "id": "6e89a429-7695-4d2c-bba7-9116396e9b04",
   "metadata": {},
   "source": [
    "### Inheritance\n"
   ]
  },
  {
   "cell_type": "markdown",
   "id": "1a301115-e85f-4977-9b4b-69b39d8ad7a2",
   "metadata": {},
   "source": [
    "#### Multi-level inheritance    "
   ]
  },
  {
   "cell_type": "code",
   "execution_count": 8,
   "id": "43801132-51c6-4c38-a196-94e20914392d",
   "metadata": {},
   "outputs": [],
   "source": [
    "# Multi-level inheritance\n",
    "class cla_1:\n",
    "    def test_cla_1(self):\n",
    "        print(\"This is class 1\")\n",
    "        \n",
    "class cla_2(cla_1):\n",
    "    def test_cla_2(self):\n",
    "        print(\"This is class 2\")        \n",
    "\n",
    "class cla_3(cla_2):\n",
    "    def test_cla_3(self):\n",
    "        print(\"This is class 3\")\n",
    "\n",
    "        \n",
    "obj_cla_3  = cla_3()\n",
    "    "
   ]
  },
  {
   "cell_type": "code",
   "execution_count": 9,
   "id": "5dcfb48b-7e5c-4f96-95dc-5c9caa094d4e",
   "metadata": {},
   "outputs": [
    {
     "name": "stdout",
     "output_type": "stream",
     "text": [
      "This is class 1\n"
     ]
    }
   ],
   "source": [
    "obj_cla_3.test_cla_1()"
   ]
  },
  {
   "cell_type": "code",
   "execution_count": 10,
   "id": "b550f649-0d8c-4dc2-9f0f-3d082e301d4a",
   "metadata": {},
   "outputs": [
    {
     "name": "stdout",
     "output_type": "stream",
     "text": [
      "This is class 2\n"
     ]
    }
   ],
   "source": [
    "obj_cla_3.test_cla_2()"
   ]
  },
  {
   "cell_type": "code",
   "execution_count": 11,
   "id": "9e1c61f3-225f-46b2-b2f1-eecb3bed2c74",
   "metadata": {},
   "outputs": [
    {
     "name": "stdout",
     "output_type": "stream",
     "text": [
      "This is class 3\n"
     ]
    }
   ],
   "source": [
    "obj_cla_3.test_cla_3()"
   ]
  },
  {
   "cell_type": "markdown",
   "id": "3165e72f-1465-4b8e-9a9e-0acc81c560f2",
   "metadata": {},
   "source": [
    "#### Multi-Level and multiple inheritance"
   ]
  },
  {
   "cell_type": "markdown",
   "id": "a38160f3-caa1-4a6f-a454-247481db9e39",
   "metadata": {},
   "source": [
    "#### Multiple inheritance"
   ]
  },
  {
   "cell_type": "code",
   "execution_count": 16,
   "id": "3be50657-1a23-42c5-9055-7ef7f5ec4b0c",
   "metadata": {},
   "outputs": [],
   "source": [
    "# Multiple inheritance\n",
    "class class_1:\n",
    "    def test_cla_1(self):\n",
    "        print(\"This is class 1\")\n",
    "        \n",
    "class class_2:\n",
    "    def test_cla_2(self):\n",
    "        print(\"This is class 2\")        \n",
    "\n",
    "class class_3(class_1,class_2):\n",
    "    def test_cla_3(self):\n",
    "        print(\"This is class 3\")\n",
    "\n",
    "        \n",
    "obj_class_3  = class_3()\n",
    "    "
   ]
  },
  {
   "cell_type": "code",
   "execution_count": 17,
   "id": "6185daa9-9e43-4765-a7bc-24f8e4528d6d",
   "metadata": {},
   "outputs": [
    {
     "name": "stdout",
     "output_type": "stream",
     "text": [
      "This is class 1\n"
     ]
    }
   ],
   "source": [
    "obj_class_3.test_cla_1()"
   ]
  },
  {
   "cell_type": "code",
   "execution_count": 18,
   "id": "a6e94a5b-d797-496d-8e69-2e61208e90bb",
   "metadata": {},
   "outputs": [
    {
     "name": "stdout",
     "output_type": "stream",
     "text": [
      "This is class 2\n"
     ]
    }
   ],
   "source": [
    "obj_class_3.test_cla_2()"
   ]
  },
  {
   "cell_type": "code",
   "execution_count": 19,
   "id": "c4028b9e-64e3-430d-adfe-4795d45b6382",
   "metadata": {},
   "outputs": [
    {
     "name": "stdout",
     "output_type": "stream",
     "text": [
      "This is class 3\n"
     ]
    }
   ],
   "source": [
    "obj_class_3.test_cla_3()"
   ]
  },
  {
   "cell_type": "markdown",
   "id": "21e364ff-aa93-46a0-bd4f-b0a91c73ef0c",
   "metadata": {},
   "source": [
    "#### Abstraction"
   ]
  },
  {
   "cell_type": "code",
   "execution_count": 21,
   "id": "cc48aa9c-c114-4b3f-88c2-9460d3e3d96f",
   "metadata": {},
   "outputs": [],
   "source": [
    "import abc\n",
    "\n",
    "class abstact_template:\n",
    "    @abc.abstractmethod\n",
    "    def test1(self):\n",
    "        pass\n",
    "    \n",
    "    @abc.abstractmethod\n",
    "    def test2(self):\n",
    "        pass    "
   ]
  },
  {
   "cell_type": "code",
   "execution_count": 30,
   "id": "b6ed22e8-96b3-4eb0-898d-0d55bbff7f05",
   "metadata": {},
   "outputs": [],
   "source": [
    "class implementation(abstact_template):\n",
    "    def test1(self):\n",
    "        print(\"Implemented class method test1\")\n",
    "    def test2(self):\n",
    "        print(\"Implemented class method test2\")"
   ]
  },
  {
   "cell_type": "code",
   "execution_count": 31,
   "id": "8977ff53-9e79-46b9-9ede-a181d5494373",
   "metadata": {},
   "outputs": [],
   "source": [
    "imp_class_obj = implementation()"
   ]
  },
  {
   "cell_type": "code",
   "execution_count": 32,
   "id": "085f7eb3-ba68-4d2c-ab7e-163a36aad4f4",
   "metadata": {},
   "outputs": [
    {
     "name": "stdout",
     "output_type": "stream",
     "text": [
      "Implemented class method test1\n"
     ]
    }
   ],
   "source": [
    "imp_class_obj.test1()"
   ]
  },
  {
   "cell_type": "code",
   "execution_count": 33,
   "id": "5827afd0-a43e-47e1-97c5-a34f5e2e8ed9",
   "metadata": {},
   "outputs": [
    {
     "name": "stdout",
     "output_type": "stream",
     "text": [
      "Implemented class method test2\n"
     ]
    }
   ],
   "source": [
    "imp_class_obj.test2()"
   ]
  },
  {
   "cell_type": "code",
   "execution_count": null,
   "id": "226fb906-fc60-458c-ae29-041c52b52c9f",
   "metadata": {},
   "outputs": [],
   "source": []
  }
 ],
 "metadata": {
  "kernelspec": {
   "display_name": "Python 3 (ipykernel)",
   "language": "python",
   "name": "python3"
  },
  "language_info": {
   "codemirror_mode": {
    "name": "ipython",
    "version": 3
   },
   "file_extension": ".py",
   "mimetype": "text/x-python",
   "name": "python",
   "nbconvert_exporter": "python",
   "pygments_lexer": "ipython3",
   "version": "3.10.8"
  }
 },
 "nbformat": 4,
 "nbformat_minor": 5
}
