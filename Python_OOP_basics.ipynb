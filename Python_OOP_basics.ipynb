{
 "cells": [
  {
   "cell_type": "markdown",
   "id": "2c956cfc-50e1-4ce5-b95c-28ed09cf6e04",
   "metadata": {},
   "source": [
    "## OOPs Basics"
   ]
  },
  {
   "cell_type": "code",
   "execution_count": 13,
   "id": "cf895a2f-ef8b-4ed2-8952-47156f6446ba",
   "metadata": {},
   "outputs": [],
   "source": [
    "class test:\n",
    "    t1 = []\n",
    "    \n",
    "    def welcome_msg(self):\n",
    "        print(\"Welcome\")"
   ]
  },
  {
   "cell_type": "code",
   "execution_count": 14,
   "id": "3c47663e-de6c-4867-bd1d-d00d37e8088d",
   "metadata": {},
   "outputs": [],
   "source": [
    "obj = test()"
   ]
  },
  {
   "cell_type": "code",
   "execution_count": 15,
   "id": "dd267a90-b56f-424b-a886-55f0c90341c6",
   "metadata": {},
   "outputs": [
    {
     "name": "stdout",
     "output_type": "stream",
     "text": [
      "Welcome\n"
     ]
    }
   ],
   "source": [
    "obj.welcome_msg()"
   ]
  },
  {
   "cell_type": "code",
   "execution_count": 16,
   "id": "fc29430d-91f0-48b7-9a8c-079bfd4bb6ad",
   "metadata": {},
   "outputs": [],
   "source": [
    "class constructor_samp:\n",
    "    \n",
    "    # Constructor\n",
    "    def __init__(self,name,age):\n",
    "        self.name = name\n",
    "        self.age = age\n",
    "        \n",
    "    # Get method\n",
    "    def get_details(self):\n",
    "        return self.name, self.age\n",
    "        "
   ]
  },
  {
   "cell_type": "code",
   "execution_count": 17,
   "id": "d9e20346-f1f8-4b6b-85ca-aed2cfd34d65",
   "metadata": {},
   "outputs": [],
   "source": [
    "obj1 = constructor_samp(\"Anoop\",27)"
   ]
  },
  {
   "cell_type": "code",
   "execution_count": 18,
   "id": "cf123ec4-677f-412d-9318-de7ccf22e334",
   "metadata": {},
   "outputs": [
    {
     "data": {
      "text/plain": [
       "('Anoop', 27)"
      ]
     },
     "execution_count": 18,
     "metadata": {},
     "output_type": "execute_result"
    }
   ],
   "source": [
    "obj1.get_details()"
   ]
  },
  {
   "cell_type": "code",
   "execution_count": 19,
   "id": "48e25482-edb0-4273-a306-045afabd95b1",
   "metadata": {},
   "outputs": [],
   "source": [
    "# Self is not a keyword but a reference to the class\n",
    "# It can be anything for Ex check below - Instead of \"self\" I'm using \"student\"\n",
    "class constructor_samp1:\n",
    "    \n",
    "    # Constructor\n",
    "    def __init__(student,name,age):\n",
    "        student.name = name\n",
    "        student.age = age\n",
    "        \n",
    "    # Get method\n",
    "    def get_details(student):\n",
    "        return student.name, student.age"
   ]
  },
  {
   "cell_type": "code",
   "execution_count": 20,
   "id": "f269b64b-8a28-4757-a966-0444ed63b658",
   "metadata": {},
   "outputs": [],
   "source": [
    "obj2 = constructor_samp(\"Anoop_123\",27)"
   ]
  },
  {
   "cell_type": "code",
   "execution_count": 21,
   "id": "76873aab-4eb8-4604-be82-0f207ffefbaa",
   "metadata": {},
   "outputs": [
    {
     "data": {
      "text/plain": [
       "('Anoop_123', 27)"
      ]
     },
     "execution_count": 21,
     "metadata": {},
     "output_type": "execute_result"
    }
   ],
   "source": [
    "obj2.get_details()"
   ]
  },
  {
   "cell_type": "markdown",
   "id": "c319ca39-4f94-41e7-836e-99943befb521",
   "metadata": {},
   "source": [
    "### Polymorphism"
   ]
  },
  {
   "cell_type": "code",
   "execution_count": 22,
   "id": "8dd8d5ce-a07d-45ef-8444-7670f5345c5b",
   "metadata": {},
   "outputs": [],
   "source": [
    "# Simple example of polymorphism of functions\n",
    "def poly_morph(a,b):\n",
    "    return a + b"
   ]
  },
  {
   "cell_type": "code",
   "execution_count": 23,
   "id": "a30211f1-c9c4-4ce7-bda3-2602e60dd11a",
   "metadata": {},
   "outputs": [
    {
     "data": {
      "text/plain": [
       "3"
      ]
     },
     "execution_count": 23,
     "metadata": {},
     "output_type": "execute_result"
    }
   ],
   "source": [
    "poly_morph(1,2)"
   ]
  },
  {
   "cell_type": "code",
   "execution_count": 24,
   "id": "657d5162-dc18-40c2-83da-4be172c22e39",
   "metadata": {},
   "outputs": [
    {
     "data": {
      "text/plain": [
       "'PolyTEST'"
      ]
     },
     "execution_count": 24,
     "metadata": {},
     "output_type": "execute_result"
    }
   ],
   "source": [
    "poly_morph(\"Poly\",\"TEST\")"
   ]
  },
  {
   "cell_type": "code",
   "execution_count": 25,
   "id": "e3d07ad3-9c20-4ead-bdec-370d1b775de1",
   "metadata": {},
   "outputs": [
    {
     "data": {
      "text/plain": [
       "[42342, 234, 12, 34, 53]"
      ]
     },
     "execution_count": 25,
     "metadata": {},
     "output_type": "execute_result"
    }
   ],
   "source": [
    "poly_morph([42342,234],[12,34,53])"
   ]
  },
  {
   "cell_type": "code",
   "execution_count": 33,
   "id": "4ad65e56-6937-414e-9ff7-e670cd92ca7c",
   "metadata": {},
   "outputs": [],
   "source": [
    "# Simple example of Polymorphism of Classes\n",
    "# The ability to treat 2 different classes in the same manner - This is true as long as the classes share the same interface\n",
    "class poly_cla_1:\n",
    "    def print_log(self):\n",
    "        print(\"This is poly_cla_1\")\n",
    "class poly_cla_2:\n",
    "    def print_log(self):\n",
    "        print(\"This is poly_cla_2\")\n",
    "poly_1 = poly_cla_1()\n",
    "poly_2 = poly_cla_2()\n",
    "classes = [poly_1,poly_2]\n",
    "\n",
    "def class_parcer(class_list):\n",
    "    for cla in class_list:\n",
    "        cla.print_log()\n",
    "    \n",
    "    "
   ]
  },
  {
   "cell_type": "code",
   "execution_count": 34,
   "id": "8478da85-125f-4b33-8684-fd09b69c9eb6",
   "metadata": {},
   "outputs": [
    {
     "name": "stdout",
     "output_type": "stream",
     "text": [
      "This is poly_cla_1\n",
      "This is poly_cla_2\n"
     ]
    }
   ],
   "source": [
    "class_parcer(classes)"
   ]
  },
  {
   "cell_type": "markdown",
   "id": "d69f8ccf-bead-40c1-88df-f78a7e8958c5",
   "metadata": {},
   "source": [
    "### Encapsulation\n",
    "It describes the idea of wrapping data and the methods that work on data within one unit. This puts restrictions on accessing variables and methods directly and can prevent the accidental modification of data. To prevent accidental change, an object’s variable can only be changed by an object’s method. Those types of variables are known as private variables."
   ]
  },
  {
   "cell_type": "code",
   "execution_count": 42,
   "id": "b2887f78-7183-4969-a903-fd8397de8155",
   "metadata": {},
   "outputs": [],
   "source": [
    "# W/o Encapsulation\n",
    "class encap_class:\n",
    "    \n",
    "    def __init__(self,a,b):\n",
    "        self.a = a\n",
    "        self.b = b\n",
    "        "
   ]
  },
  {
   "cell_type": "code",
   "execution_count": 43,
   "id": "cc07c65b-c13e-4357-b267-dbb1ffcd3bce",
   "metadata": {},
   "outputs": [],
   "source": [
    "encap_obj = encap_class(2,3)"
   ]
  },
  {
   "cell_type": "code",
   "execution_count": 44,
   "id": "0fd634db-8ee6-49f7-870b-f75d6e71435b",
   "metadata": {},
   "outputs": [
    {
     "data": {
      "text/plain": [
       "2"
      ]
     },
     "execution_count": 44,
     "metadata": {},
     "output_type": "execute_result"
    }
   ],
   "source": [
    "encap_obj.a"
   ]
  },
  {
   "cell_type": "code",
   "execution_count": 41,
   "id": "56d25d40-ce48-4f4e-a67f-2f0cf2fa6443",
   "metadata": {},
   "outputs": [
    {
     "data": {
      "text/plain": [
       "3"
      ]
     },
     "execution_count": 41,
     "metadata": {},
     "output_type": "execute_result"
    }
   ],
   "source": [
    "encap_obj.b"
   ]
  },
  {
   "cell_type": "code",
   "execution_count": 54,
   "id": "be540bdd-e8af-4761-82d0-fa4c6139076e",
   "metadata": {},
   "outputs": [],
   "source": [
    "# With Encapsulation using private variable (__VARNAME)\n",
    "class encap_class1:\n",
    "    \n",
    "    def __init__(self,a,b):\n",
    "        self.__a = a\n",
    "        self.__b = b\n",
    "        \n",
    "    def get_a(self):\n",
    "        return self.__a\n",
    "    def get_b(self):\n",
    "        return self.__b\n",
    "        "
   ]
  },
  {
   "cell_type": "code",
   "execution_count": 55,
   "id": "09912734-5eaa-4c69-bf6c-5743d24d920c",
   "metadata": {},
   "outputs": [],
   "source": [
    "encap_obj1 = encap_class1(1,2)"
   ]
  },
  {
   "cell_type": "code",
   "execution_count": 56,
   "id": "1096ca25-cbb5-4074-b179-e2d91ed28fdd",
   "metadata": {},
   "outputs": [
    {
     "data": {
      "text/plain": [
       "1"
      ]
     },
     "execution_count": 56,
     "metadata": {},
     "output_type": "execute_result"
    }
   ],
   "source": [
    "encap_obj1.get_a()"
   ]
  },
  {
   "cell_type": "code",
   "execution_count": 63,
   "id": "8a324058-cc14-42c7-b4d8-857b83448d0d",
   "metadata": {},
   "outputs": [],
   "source": [
    "# Encapsulation sample\n",
    "class bnk_acc:\n",
    "    \n",
    "    def __init__(self,name,init_amt):\n",
    "        self.__name     = name\n",
    "        self.__init_amt = init_amt \n",
    "        self.__balance  = 0\n",
    "        self.deposit(init_amt)\n",
    "        \n",
    "    def deposit(self,amt):\n",
    "        self.__balance = self.__balance + amt\n",
    "        print(\"Balance:\",self.__balance)\n",
    "        \n",
    "        \n",
    "    def withdraw(self,amt):\n",
    "        if amt > 0 and self.__balance > amt :\n",
    "            self.__balance = self.__balance - amt\n",
    "            print(\"Balance:\",self.__balance)    \n",
    "            return True\n",
    "        else:\n",
    "            return False\n",
    "\n",
    "    def get_balance(self):\n",
    "        return self.__balance"
   ]
  },
  {
   "cell_type": "code",
   "execution_count": 64,
   "id": "1e109eb2-c4b7-4a3c-8834-04287b549fa5",
   "metadata": {},
   "outputs": [
    {
     "name": "stdout",
     "output_type": "stream",
     "text": [
      "Balance: 10000\n"
     ]
    }
   ],
   "source": [
    "anoop_acc = bnk_acc(\"Anoop\",10000)"
   ]
  },
  {
   "cell_type": "code",
   "execution_count": 65,
   "id": "e4e7cc5a-ffe8-43ae-b76a-cd3ac1517523",
   "metadata": {},
   "outputs": [
    {
     "name": "stdout",
     "output_type": "stream",
     "text": [
      "Balance: 210000\n"
     ]
    }
   ],
   "source": [
    "anoop_acc.deposit(200000)"
   ]
  },
  {
   "cell_type": "code",
   "execution_count": 66,
   "id": "9f9b8a6c-820c-4e3f-9e4a-4cd596f7a90b",
   "metadata": {},
   "outputs": [
    {
     "data": {
      "text/plain": [
       "False"
      ]
     },
     "execution_count": 66,
     "metadata": {},
     "output_type": "execute_result"
    }
   ],
   "source": [
    "anoop_acc.withdraw(20000000)"
   ]
  },
  {
   "cell_type": "markdown",
   "id": "6e89a429-7695-4d2c-bba7-9116396e9b04",
   "metadata": {},
   "source": [
    "### Inheritance\n"
   ]
  },
  {
   "cell_type": "markdown",
   "id": "1a301115-e85f-4977-9b4b-69b39d8ad7a2",
   "metadata": {},
   "source": [
    "#### Multi-level inheritance    "
   ]
  },
  {
   "cell_type": "code",
   "execution_count": 8,
   "id": "43801132-51c6-4c38-a196-94e20914392d",
   "metadata": {},
   "outputs": [],
   "source": [
    "# Multi-level inheritance\n",
    "class cla_1:\n",
    "    def test_cla_1(self):\n",
    "        print(\"This is class 1\")\n",
    "        \n",
    "class cla_2(cla_1):\n",
    "    def test_cla_2(self):\n",
    "        print(\"This is class 2\")        \n",
    "\n",
    "class cla_3(cla_2):\n",
    "    def test_cla_3(self):\n",
    "        print(\"This is class 3\")\n",
    "\n",
    "        \n",
    "obj_cla_3  = cla_3()\n",
    "    "
   ]
  },
  {
   "cell_type": "code",
   "execution_count": 9,
   "id": "5dcfb48b-7e5c-4f96-95dc-5c9caa094d4e",
   "metadata": {},
   "outputs": [
    {
     "name": "stdout",
     "output_type": "stream",
     "text": [
      "This is class 1\n"
     ]
    }
   ],
   "source": [
    "obj_cla_3.test_cla_1()"
   ]
  },
  {
   "cell_type": "code",
   "execution_count": 10,
   "id": "b550f649-0d8c-4dc2-9f0f-3d082e301d4a",
   "metadata": {},
   "outputs": [
    {
     "name": "stdout",
     "output_type": "stream",
     "text": [
      "This is class 2\n"
     ]
    }
   ],
   "source": [
    "obj_cla_3.test_cla_2()"
   ]
  },
  {
   "cell_type": "code",
   "execution_count": 11,
   "id": "9e1c61f3-225f-46b2-b2f1-eecb3bed2c74",
   "metadata": {},
   "outputs": [
    {
     "name": "stdout",
     "output_type": "stream",
     "text": [
      "This is class 3\n"
     ]
    }
   ],
   "source": [
    "obj_cla_3.test_cla_3()"
   ]
  },
  {
   "cell_type": "markdown",
   "id": "3165e72f-1465-4b8e-9a9e-0acc81c560f2",
   "metadata": {},
   "source": [
    "#### Multi-Level and multiple inheritance"
   ]
  },
  {
   "cell_type": "markdown",
   "id": "a38160f3-caa1-4a6f-a454-247481db9e39",
   "metadata": {},
   "source": [
    "#### Multiple inheritance"
   ]
  },
  {
   "cell_type": "code",
   "execution_count": 16,
   "id": "3be50657-1a23-42c5-9055-7ef7f5ec4b0c",
   "metadata": {},
   "outputs": [],
   "source": [
    "# Multiple inheritance\n",
    "class class_1:\n",
    "    def test_cla_1(self):\n",
    "        print(\"This is class 1\")\n",
    "        \n",
    "class class_2:\n",
    "    def test_cla_2(self):\n",
    "        print(\"This is class 2\")        \n",
    "\n",
    "class class_3(class_1,class_2):\n",
    "    def test_cla_3(self):\n",
    "        print(\"This is class 3\")\n",
    "\n",
    "        \n",
    "obj_class_3  = class_3()\n",
    "    "
   ]
  },
  {
   "cell_type": "code",
   "execution_count": 17,
   "id": "6185daa9-9e43-4765-a7bc-24f8e4528d6d",
   "metadata": {},
   "outputs": [
    {
     "name": "stdout",
     "output_type": "stream",
     "text": [
      "This is class 1\n"
     ]
    }
   ],
   "source": [
    "obj_class_3.test_cla_1()"
   ]
  },
  {
   "cell_type": "code",
   "execution_count": 18,
   "id": "a6e94a5b-d797-496d-8e69-2e61208e90bb",
   "metadata": {},
   "outputs": [
    {
     "name": "stdout",
     "output_type": "stream",
     "text": [
      "This is class 2\n"
     ]
    }
   ],
   "source": [
    "obj_class_3.test_cla_2()"
   ]
  },
  {
   "cell_type": "code",
   "execution_count": 19,
   "id": "c4028b9e-64e3-430d-adfe-4795d45b6382",
   "metadata": {},
   "outputs": [
    {
     "name": "stdout",
     "output_type": "stream",
     "text": [
      "This is class 3\n"
     ]
    }
   ],
   "source": [
    "obj_class_3.test_cla_3()"
   ]
  },
  {
   "cell_type": "markdown",
   "id": "21e364ff-aa93-46a0-bd4f-b0a91c73ef0c",
   "metadata": {},
   "source": [
    "#### Abstraction"
   ]
  },
  {
   "cell_type": "code",
   "execution_count": 21,
   "id": "cc48aa9c-c114-4b3f-88c2-9460d3e3d96f",
   "metadata": {},
   "outputs": [],
   "source": [
    "import abc\n",
    "\n",
    "class abstact_template:\n",
    "    @abc.abstractmethod\n",
    "    def test1(self):\n",
    "        pass\n",
    "    \n",
    "    @abc.abstractmethod\n",
    "    def test2(self):\n",
    "        pass    "
   ]
  },
  {
   "cell_type": "code",
   "execution_count": 30,
   "id": "b6ed22e8-96b3-4eb0-898d-0d55bbff7f05",
   "metadata": {},
   "outputs": [],
   "source": [
    "class implementation(abstact_template):\n",
    "    def test1(self):\n",
    "        print(\"Implemented class method test1\")\n",
    "    def test2(self):\n",
    "        print(\"Implemented class method test2\")"
   ]
  },
  {
   "cell_type": "code",
   "execution_count": 31,
   "id": "8977ff53-9e79-46b9-9ede-a181d5494373",
   "metadata": {},
   "outputs": [],
   "source": [
    "imp_class_obj = implementation()"
   ]
  },
  {
   "cell_type": "code",
   "execution_count": 32,
   "id": "085f7eb3-ba68-4d2c-ab7e-163a36aad4f4",
   "metadata": {},
   "outputs": [
    {
     "name": "stdout",
     "output_type": "stream",
     "text": [
      "Implemented class method test1\n"
     ]
    }
   ],
   "source": [
    "imp_class_obj.test1()"
   ]
  },
  {
   "cell_type": "code",
   "execution_count": 33,
   "id": "5827afd0-a43e-47e1-97c5-a34f5e2e8ed9",
   "metadata": {},
   "outputs": [
    {
     "name": "stdout",
     "output_type": "stream",
     "text": [
      "Implemented class method test2\n"
     ]
    }
   ],
   "source": [
    "imp_class_obj.test2()"
   ]
  },
  {
   "cell_type": "markdown",
   "id": "fcf03ff0-8b6f-46ca-ba36-5e0ae630d058",
   "metadata": {},
   "source": [
    "#### Decorator\n",
    "These functions are used as a template for execution of repetitive code (Usually this is misc/administrative code) while actually executing function that are processing data. Like a header and footer on a word document.\n"
   ]
  },
  {
   "cell_type": "code",
   "execution_count": 34,
   "id": "f3012a7a-92db-4f97-820a-598cd3482c38",
   "metadata": {},
   "outputs": [],
   "source": [
    "import time"
   ]
  },
  {
   "cell_type": "code",
   "execution_count": 45,
   "id": "810685fd-e7a2-4a6d-a262-acaa4cd17bac",
   "metadata": {},
   "outputs": [],
   "source": [
    "def timer(func):\n",
    "    def claculate_execution():\n",
    "        start = time.time()\n",
    "        func()\n",
    "        end = time.time()\n",
    "        print(\"The function took \", (start-end))\n",
    "    return claculate_execution"
   ]
  },
  {
   "cell_type": "code",
   "execution_count": 46,
   "id": "83df2719-2a24-4094-ac46-6238506558a4",
   "metadata": {},
   "outputs": [],
   "source": [
    "@timer\n",
    "def print_dummy():\n",
    "    for i in range(123234):\n",
    "        pass"
   ]
  },
  {
   "cell_type": "code",
   "execution_count": 47,
   "id": "f7b11beb-d5e2-42f4-973b-5858924902ac",
   "metadata": {},
   "outputs": [
    {
     "name": "stdout",
     "output_type": "stream",
     "text": [
      "The function took  -0.002429485321044922\n"
     ]
    }
   ],
   "source": [
    "print_dummy()"
   ]
  },
  {
   "cell_type": "markdown",
   "id": "f504419b-6d4e-4c63-8b3b-381ec77e69ca",
   "metadata": {},
   "source": [
    "#### Class Methods\n",
    "This allows a method to be called directly from the class w/o creating an instance. These methods have access to class level attributes."
   ]
  },
  {
   "cell_type": "code",
   "execution_count": 32,
   "id": "281f4643-2b34-4860-8e49-8c8a8fa485d8",
   "metadata": {},
   "outputs": [],
   "source": [
    "class cla_method:\n",
    "    # Class vairable \n",
    "    class_var = \"Class variable value\"\n",
    "    \n",
    "    def __init__(self):\n",
    "        self.name =\"\"\n",
    "        \n",
    "    def instance_method(self):\n",
    "        print(\"instance_method method\")\n",
    "        print(cla_method.class_var)\n",
    "        \n",
    "    # Class Method    \n",
    "    @classmethod\n",
    "    def class_method(cls):\n",
    "        cls.age = 12\n",
    "        print(\"Class method\")\n",
    "\n",
    "              "
   ]
  },
  {
   "cell_type": "code",
   "execution_count": 33,
   "id": "d6fa840e-0d16-4ae0-846d-f5425457f814",
   "metadata": {},
   "outputs": [
    {
     "ename": "TypeError",
     "evalue": "cla_method.instance_method() missing 1 required positional argument: 'self'",
     "output_type": "error",
     "traceback": [
      "\u001b[0;31m---------------------------------------------------------------------------\u001b[0m",
      "\u001b[0;31mTypeError\u001b[0m                                 Traceback (most recent call last)",
      "Cell \u001b[0;32mIn[33], line 2\u001b[0m\n\u001b[1;32m      1\u001b[0m \u001b[38;5;66;03m# Trying to call an instance method from the class itself will not work\u001b[39;00m\n\u001b[0;32m----> 2\u001b[0m \u001b[43mcla_method\u001b[49m\u001b[38;5;241;43m.\u001b[39;49m\u001b[43minstance_method\u001b[49m\u001b[43m(\u001b[49m\u001b[43m)\u001b[49m\n",
      "\u001b[0;31mTypeError\u001b[0m: cla_method.instance_method() missing 1 required positional argument: 'self'"
     ]
    }
   ],
   "source": [
    "# Trying to call an instance method from the class itself will not work\n",
    "cla_method.instance_method()"
   ]
  },
  {
   "cell_type": "code",
   "execution_count": 34,
   "id": "d2983c2d-8542-43ac-a250-057bfece33a8",
   "metadata": {},
   "outputs": [
    {
     "name": "stdout",
     "output_type": "stream",
     "text": [
      "Class method\n"
     ]
    }
   ],
   "source": [
    "# Calling the class method directly from the class w/o using an instance is the feature that classmethod provides\n",
    "cla_method.class_method()"
   ]
  },
  {
   "cell_type": "code",
   "execution_count": 43,
   "id": "d0b04c40-ffd6-47fe-bd38-ced7d068f72c",
   "metadata": {},
   "outputs": [],
   "source": [
    "cl_obj = cla_method()"
   ]
  },
  {
   "cell_type": "code",
   "execution_count": 44,
   "id": "c213dc85-3c87-4ee9-b679-97aa58ea5336",
   "metadata": {},
   "outputs": [
    {
     "name": "stdout",
     "output_type": "stream",
     "text": [
      "instance_method method\n",
      "Class variable value\n"
     ]
    }
   ],
   "source": [
    "cl_obj.instance_method()"
   ]
  },
  {
   "cell_type": "code",
   "execution_count": 48,
   "id": "4318b1de-4d98-4554-a248-778856e37e8b",
   "metadata": {},
   "outputs": [
    {
     "data": {
      "text/plain": [
       "12"
      ]
     },
     "execution_count": 48,
     "metadata": {},
     "output_type": "execute_result"
    }
   ],
   "source": [
    "cl_obj.age"
   ]
  },
  {
   "cell_type": "code",
   "execution_count": 38,
   "id": "99525fd3-2b58-40b5-b2c4-fbbd8d9452b5",
   "metadata": {},
   "outputs": [
    {
     "ename": "AttributeError",
     "evalue": "type object 'cla_method' has no attribute 'name'",
     "output_type": "error",
     "traceback": [
      "\u001b[0;31m---------------------------------------------------------------------------\u001b[0m",
      "\u001b[0;31mAttributeError\u001b[0m                            Traceback (most recent call last)",
      "Cell \u001b[0;32mIn[38], line 1\u001b[0m\n\u001b[0;32m----> 1\u001b[0m \u001b[43mcla_method\u001b[49m\u001b[38;5;241;43m.\u001b[39;49m\u001b[43mname\u001b[49m\n",
      "\u001b[0;31mAttributeError\u001b[0m: type object 'cla_method' has no attribute 'name'"
     ]
    }
   ],
   "source": [
    "cla_method.name"
   ]
  },
  {
   "cell_type": "code",
   "execution_count": 41,
   "id": "5dd0dc94-9b4e-4b85-a411-918e1518d289",
   "metadata": {},
   "outputs": [
    {
     "data": {
      "text/plain": [
       "12"
      ]
     },
     "execution_count": 41,
     "metadata": {},
     "output_type": "execute_result"
    }
   ],
   "source": [
    "cla_method.age"
   ]
  },
  {
   "cell_type": "code",
   "execution_count": 46,
   "id": "6d55b202-91ec-4eeb-ab37-b40dabcc06c2",
   "metadata": {},
   "outputs": [
    {
     "data": {
      "text/plain": [
       "'Class variable value'"
      ]
     },
     "execution_count": 46,
     "metadata": {},
     "output_type": "execute_result"
    }
   ],
   "source": [
    "cla_method.class_var"
   ]
  },
  {
   "cell_type": "markdown",
   "id": "b02abadc-5950-4720-8c38-4922dd4c0153",
   "metadata": {},
   "source": [
    "#### Static Methods \n",
    "This allows a method to be called directly from the class w/o creating an instance. These methods have access to class level attributes."
   ]
  },
  {
   "cell_type": "code",
   "execution_count": 7,
   "id": "ee94d2c2-c53c-4236-8270-671797abb08b",
   "metadata": {},
   "outputs": [],
   "source": [
    "class static_class:\n",
    "    class_atr = \"Class level attribute\"\n",
    "    \n",
    "    @classmethod\n",
    "    def class_meth1(cls):\n",
    "        print(cls.class_atr)\n",
    "        \n",
    "    @staticmethod\n",
    "    def static_meth1():\n",
    "        print(\"Static Method calls\")\n",
    "        print(static_class.class_atr)\n",
    "        static_class.class_meth1()   \n",
    "    \n",
    "    \n",
    "        \n",
    "        "
   ]
  },
  {
   "cell_type": "code",
   "execution_count": 8,
   "id": "234a79e9-43fe-4712-830b-9d6d6367c6ac",
   "metadata": {},
   "outputs": [
    {
     "name": "stdout",
     "output_type": "stream",
     "text": [
      "Class level attribute\n"
     ]
    }
   ],
   "source": [
    "static_class.class_meth1()"
   ]
  },
  {
   "cell_type": "code",
   "execution_count": 9,
   "id": "0dfa9ed7-ee0b-4554-83d2-c95b30f8657f",
   "metadata": {},
   "outputs": [
    {
     "name": "stdout",
     "output_type": "stream",
     "text": [
      "Static Method calls\n",
      "Class level attribute\n",
      "Class level attribute\n"
     ]
    }
   ],
   "source": [
    "static_class.static_meth1()"
   ]
  },
  {
   "cell_type": "markdown",
   "id": "40f54b03-bc6d-4633-a1e3-1d95052f71da",
   "metadata": {},
   "source": [
    "#### Notice in the above code the static_meth1() was able to access the clsas attributes by using classname.attribute syntax. However, the main difference between a classsmethod and a static method in that case is that the classmethod is dynamic i.e the class name is not hardcoded to access the class attribute, but in the case of the static method the class name is hardcoded and the class name could change anytime rendering the method usseless.**"
   ]
  },
  {
   "cell_type": "markdown",
   "id": "b47c3736-a314-4f05-9084-d8878eedfeb0",
   "metadata": {},
   "source": [
    "#### Magic method\n",
    "Magic methods in Python are special methods that start and end with double underscores (e.g. __init__, __str__). These methods are called automatically when certain operations are performed on objects of a class. Magic methods allow developers to customize the behavior of built-in Python operations.\n",
    "\n",
    "For example, the __init__ method is called when an object of a class is created, and it initializes the object's attributes. The __str__ method is called when an object is printed using the print function, and it returns a string representation of the object.\n",
    "\n",
    "Here are some other examples of magic methods and the corresponding operations they support:\n",
    "\n",
    "__add__: Called when the + operator is used on objects of a class.\n",
    "__sub__: Called when the - operator is used on objects of a class.\n",
    "__eq__: Called when the == operator is used on objects of a class.\n",
    "__ne__: Called when the != operator is used on objects of a class.\n",
    "__lt__: Called when the < operator is used on objects of a class.\n",
    "__gt__: Called when the > operator is used on objects of a class.\n",
    "__len__: Called when the built-in len() function is called on objects of a class.\n",
    "__getitem__: Called when an item is retrieved from an object using square brackets [].\n",
    "__setitem__: Called when an item is assigned to an object using square brackets [].\n",
    "__delitem__: Called when an item is deleted from an object using the del keyword and square brackets [].\n",
    "There are many other magic methods available, and they provide powerful tools for customizing the behavior of Python classes."
   ]
  },
  {
   "cell_type": "code",
   "execution_count": 10,
   "id": "9f728f2a-7164-4202-9244-d8575c4e00b3",
   "metadata": {},
   "outputs": [],
   "source": [
    "class no_magic:\n",
    "    def __init__(self):\n",
    "        self.uid = \"1234\"\n",
    "        \n",
    "    def tester1(self):\n",
    "        pass\n"
   ]
  },
  {
   "cell_type": "code",
   "execution_count": 16,
   "id": "b4b0c8e4-39b1-4a95-bea7-cb6ec80cf50b",
   "metadata": {},
   "outputs": [],
   "source": [
    "class magic:\n",
    "    def __init__(self):\n",
    "        self.uid = \"1234\"\n",
    "    \n",
    "    def tester1(self):\n",
    "        pass\n",
    "    def __str__(self):\n",
    "        return self.uid"
   ]
  },
  {
   "cell_type": "code",
   "execution_count": 17,
   "id": "76964e57-43e2-48b3-bea8-27d11b757e8a",
   "metadata": {},
   "outputs": [],
   "source": [
    "no_magic_obj = no_magic()"
   ]
  },
  {
   "cell_type": "code",
   "execution_count": 18,
   "id": "8ecba488-735c-4289-b319-00e302d6dee4",
   "metadata": {},
   "outputs": [
    {
     "name": "stdout",
     "output_type": "stream",
     "text": [
      "<__main__.no_magic object at 0x7f871dca0a00>\n"
     ]
    }
   ],
   "source": [
    "print(no_magic_obj)"
   ]
  },
  {
   "cell_type": "code",
   "execution_count": 19,
   "id": "f6171ff7-9b74-4469-b15a-4aa38eea7401",
   "metadata": {},
   "outputs": [],
   "source": [
    "magic_obj = magic()"
   ]
  },
  {
   "cell_type": "code",
   "execution_count": 20,
   "id": "d9c63e0e-cef4-40d8-9dd4-cd5b1669fb53",
   "metadata": {},
   "outputs": [
    {
     "name": "stdout",
     "output_type": "stream",
     "text": [
      "1234\n"
     ]
    }
   ],
   "source": [
    "print(magic_obj)"
   ]
  },
  {
   "cell_type": "markdown",
   "id": "b0589e65-0a5f-4bf1-a885-c896c855dc77",
   "metadata": {},
   "source": [
    "#### Property Decorator, Getter, Setter and Deleter"
   ]
  },
  {
   "cell_type": "code",
   "execution_count": 20,
   "id": "3d8ca480-2c80-4b66-8eb4-4490263e1b9e",
   "metadata": {},
   "outputs": [],
   "source": [
    "class prop_deco:\n",
    "    def __init__(self):\n",
    "        self.__private_key = \"Secret value\"\n",
    "    \n",
    "    @property\n",
    "    def private_key(self):\n",
    "        return self.__private_key\n",
    "    \n",
    "    @private_key.setter\n",
    "    def private_key(self, new_value):\n",
    "        self.__private_key = new_value\n",
    "        \n",
    "    @private_key.deleter\n",
    "    def delete_private_key(self):\n",
    "        del self.__private_key"
   ]
  },
  {
   "cell_type": "code",
   "execution_count": 21,
   "id": "e1701c47-84f2-4c4b-806c-fcaafaf1b6e5",
   "metadata": {},
   "outputs": [],
   "source": [
    "prop_deco_obj = prop_deco()"
   ]
  },
  {
   "cell_type": "code",
   "execution_count": 22,
   "id": "2a0ff93f-246e-42a4-a082-03e0fe383016",
   "metadata": {},
   "outputs": [
    {
     "data": {
      "text/plain": [
       "'Secret value'"
      ]
     },
     "execution_count": 22,
     "metadata": {},
     "output_type": "execute_result"
    }
   ],
   "source": [
    "prop_deco_obj.private_key"
   ]
  },
  {
   "cell_type": "code",
   "execution_count": 25,
   "id": "57b8e2a6-81c9-4472-a9a2-656995fa54c1",
   "metadata": {},
   "outputs": [],
   "source": [
    "prop_deco_obj.private_key = \"Not a secret\""
   ]
  },
  {
   "cell_type": "code",
   "execution_count": 26,
   "id": "098be6af-c65e-4158-8806-17bd6a2903e1",
   "metadata": {},
   "outputs": [
    {
     "data": {
      "text/plain": [
       "'Not a secret'"
      ]
     },
     "execution_count": 26,
     "metadata": {},
     "output_type": "execute_result"
    }
   ],
   "source": [
    "prop_deco_obj.private_key"
   ]
  },
  {
   "cell_type": "code",
   "execution_count": 28,
   "id": "2c7bd7af-c66f-49be-8d49-d2b6f80df192",
   "metadata": {},
   "outputs": [],
   "source": [
    "del prop_deco_obj.delete_private_key"
   ]
  },
  {
   "cell_type": "code",
   "execution_count": 29,
   "id": "850ec509-ec70-4264-a62b-880d27570703",
   "metadata": {},
   "outputs": [
    {
     "ename": "AttributeError",
     "evalue": "'prop_deco' object has no attribute '_prop_deco__private_key'",
     "output_type": "error",
     "traceback": [
      "\u001b[0;31m---------------------------------------------------------------------------\u001b[0m",
      "\u001b[0;31mAttributeError\u001b[0m                            Traceback (most recent call last)",
      "Cell \u001b[0;32mIn[29], line 1\u001b[0m\n\u001b[0;32m----> 1\u001b[0m \u001b[43mprop_deco_obj\u001b[49m\u001b[38;5;241;43m.\u001b[39;49m\u001b[43mprivate_key\u001b[49m\n",
      "Cell \u001b[0;32mIn[20], line 7\u001b[0m, in \u001b[0;36mprop_deco.private_key\u001b[0;34m(self)\u001b[0m\n\u001b[1;32m      5\u001b[0m \u001b[38;5;129m@property\u001b[39m\n\u001b[1;32m      6\u001b[0m \u001b[38;5;28;01mdef\u001b[39;00m \u001b[38;5;21mprivate_key\u001b[39m(\u001b[38;5;28mself\u001b[39m):\n\u001b[0;32m----> 7\u001b[0m     \u001b[38;5;28;01mreturn\u001b[39;00m \u001b[38;5;28;43mself\u001b[39;49m\u001b[38;5;241;43m.\u001b[39;49m\u001b[43m__private_key\u001b[49m\n",
      "\u001b[0;31mAttributeError\u001b[0m: 'prop_deco' object has no attribute '_prop_deco__private_key'"
     ]
    }
   ],
   "source": [
    "prop_deco_obj.private_key"
   ]
  },
  {
   "cell_type": "code",
   "execution_count": null,
   "id": "bfb007e9-fcc5-4159-8ad3-d3b689fb7bfc",
   "metadata": {},
   "outputs": [],
   "source": []
  }
 ],
 "metadata": {
  "kernelspec": {
   "display_name": "Python 3 (ipykernel)",
   "language": "python",
   "name": "python3"
  },
  "language_info": {
   "codemirror_mode": {
    "name": "ipython",
    "version": 3
   },
   "file_extension": ".py",
   "mimetype": "text/x-python",
   "name": "python",
   "nbconvert_exporter": "python",
   "pygments_lexer": "ipython3",
   "version": "3.10.8"
  }
 },
 "nbformat": 4,
 "nbformat_minor": 5
}
