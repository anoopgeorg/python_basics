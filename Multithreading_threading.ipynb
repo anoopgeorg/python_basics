{
 "cells": [
  {
   "cell_type": "markdown",
   "id": "a1101512-4020-4296-95a4-ce81316420b4",
   "metadata": {},
   "source": [
    "#### Threading"
   ]
  },
  {
   "cell_type": "code",
   "execution_count": 22,
   "id": "02213b74-08b9-471f-918d-53dfd418dd74",
   "metadata": {},
   "outputs": [],
   "source": [
    "import threading "
   ]
  },
  {
   "cell_type": "code",
   "execution_count": 23,
   "id": "f4f72187-b785-44ed-a504-f09768636ca8",
   "metadata": {},
   "outputs": [],
   "source": [
    "def dummy_process(i):\n",
    "    print(\"Process stack\",i)\n",
    "    for item in range(i):\n",
    "        print(item)"
   ]
  },
  {
   "cell_type": "code",
   "execution_count": 24,
   "id": "debccca5-24bb-47bb-b756-e62efd652e94",
   "metadata": {},
   "outputs": [],
   "source": [
    "T = [threading.Thread(target=dummy_process,args=(i,)) for i in [15,10,5]]"
   ]
  },
  {
   "cell_type": "code",
   "execution_count": 25,
   "id": "d422fbbe-1b82-473a-9dd4-b65585e7ef43",
   "metadata": {},
   "outputs": [
    {
     "name": "stdout",
     "output_type": "stream",
     "text": [
      "Process stack 15\n",
      "0\n",
      "1\n",
      "2\n",
      "3\n",
      "4\n",
      "5\n",
      "6\n",
      "7\n",
      "8\n",
      "9\n",
      "10\n",
      "11\n",
      "12\n",
      "13\n",
      "14\n",
      "Process stack 10\n",
      "0\n",
      "1\n",
      "2\n",
      "3\n",
      "4\n",
      "5\n",
      "6\n",
      "7\n",
      "8\n",
      "9\n",
      "Process stack 5\n",
      "0\n",
      "1\n",
      "2\n",
      "3\n",
      "4\n"
     ]
    }
   ],
   "source": [
    "for thread in T:\n",
    "    thread.start()"
   ]
  },
  {
   "cell_type": "code",
   "execution_count": 26,
   "id": "9d132e16-469d-4722-a3ae-a1450de27ed7",
   "metadata": {},
   "outputs": [],
   "source": [
    "import urllib.request"
   ]
  },
  {
   "cell_type": "code",
   "execution_count": 27,
   "id": "570f43d1-2132-48eb-92b3-b3c810fc06b8",
   "metadata": {},
   "outputs": [],
   "source": [
    "test_data = urllib.request.urlretrieve(url='https://en.wikipedia.org/wiki/Anne_of_Denmark',filename='test_data.html')"
   ]
  },
  {
   "cell_type": "code",
   "execution_count": 28,
   "id": "552ecea2-f594-4cb7-a79c-84284c6814d1",
   "metadata": {},
   "outputs": [],
   "source": [
    "# using multi-threading\n",
    "url_list = ['https://en.wikipedia.org/wiki/Anne_of_Denmark','https://en.wikipedia.org/wiki/Anne_of_Denmark,_Electress_of_Saxony','https://en.wikipedia.org/wiki/Christian_III_of_Denmark','https://en.wikipedia.org/wiki/Gottorf_Castle']"
   ]
  },
  {
   "cell_type": "code",
   "execution_count": 29,
   "id": "3c5b70a4-fc9f-4c73-8123-fa3409275af8",
   "metadata": {},
   "outputs": [],
   "source": [
    "file_names = ['Anne_of_Denmark.html','Electress_of_Saxony.html','Christian_III_of_Denmark.html','Gottorf_Castle.html']"
   ]
  },
  {
   "cell_type": "code",
   "execution_count": 30,
   "id": "d65e5f29-b3a1-461d-953c-36aafcce45e8",
   "metadata": {},
   "outputs": [],
   "source": [
    "import threading"
   ]
  },
  {
   "cell_type": "code",
   "execution_count": 31,
   "id": "e7b5a4f6-e37e-4340-9fd0-922178a6084e",
   "metadata": {},
   "outputs": [],
   "source": [
    "def file_download(url_link,file_name):\n",
    "    urllib.request.urlretrieve(url=url_link,filename=file_name)"
   ]
  },
  {
   "cell_type": "code",
   "execution_count": 32,
   "id": "a174cf3b-752c-419f-8c14-52a1e34a1d41",
   "metadata": {},
   "outputs": [],
   "source": [
    "threads = [threading.Thread(target=file_download,args=(url_list[i],file_names[i])) for i in range(len(url_list))]"
   ]
  },
  {
   "cell_type": "code",
   "execution_count": 33,
   "id": "2c4780fb-0592-454c-b154-a7b45a404dc6",
   "metadata": {},
   "outputs": [],
   "source": [
    "for thread in threads:\n",
    "    thread.start()"
   ]
  },
  {
   "cell_type": "code",
   "execution_count": 34,
   "id": "08806d57-1fe7-43a4-86a2-af415083b61d",
   "metadata": {},
   "outputs": [],
   "source": [
    "import time"
   ]
  },
  {
   "cell_type": "code",
   "execution_count": 35,
   "id": "c70974fc-4355-40d2-81fb-50fa37464a3c",
   "metadata": {},
   "outputs": [],
   "source": [
    "# Example of how a single core works with multiple threads\n",
    "# it is easily understood once we introduce and idle time for the processor using sleep\n",
    "def dummy_roll(x):\n",
    "    for i in range(10):\n",
    "        print(\"this is %d instance, current value %d\" %(x,i))\n",
    "        time.sleep(1)\n",
    "        "
   ]
  },
  {
   "cell_type": "code",
   "execution_count": 36,
   "id": "8abe80ce-2bc7-457e-bb7a-3a11f0024887",
   "metadata": {},
   "outputs": [
    {
     "name": "stdout",
     "output_type": "stream",
     "text": [
      "this is 10 instance, current value 0\n",
      "this is 10 instance, current value 1\n",
      "this is 10 instance, current value 2\n",
      "this is 10 instance, current value 3\n",
      "this is 10 instance, current value 4\n",
      "this is 10 instance, current value 5\n",
      "this is 10 instance, current value 6\n",
      "this is 10 instance, current value 7\n",
      "this is 10 instance, current value 8\n",
      "this is 10 instance, current value 9\n"
     ]
    }
   ],
   "source": [
    "dummy_roll(10)"
   ]
  },
  {
   "cell_type": "code",
   "execution_count": 37,
   "id": "5a10e952-0058-4c4c-a59b-660508af6f18",
   "metadata": {},
   "outputs": [],
   "source": [
    "threads2 = [threading.Thread(target=dummy_roll, args=(i,)) for i in [1,2] ]"
   ]
  },
  {
   "cell_type": "code",
   "execution_count": 38,
   "id": "a9b8e73b-f76e-4a4a-91e0-73da34534883",
   "metadata": {},
   "outputs": [
    {
     "data": {
      "text/plain": [
       "[<Thread(Thread-23 (dummy_roll), initial)>,\n",
       " <Thread(Thread-24 (dummy_roll), initial)>]"
      ]
     },
     "execution_count": 38,
     "metadata": {},
     "output_type": "execute_result"
    }
   ],
   "source": [
    "threads2"
   ]
  },
  {
   "cell_type": "code",
   "execution_count": 39,
   "id": "f0c0d6dc-9369-4145-8671-42c5743fa6b9",
   "metadata": {},
   "outputs": [
    {
     "name": "stdout",
     "output_type": "stream",
     "text": [
      "this is 1 instance, current value 0\n",
      "this is 2 instance, current value 0\n",
      "this is 1 instance, current value 1\n",
      "this is 2 instance, current value 1\n",
      "this is 1 instance, current value 2\n",
      "this is 2 instance, current value 2\n",
      "this is 1 instance, current value 3\n",
      "this is 2 instance, current value 3\n",
      "this is 2 instance, current value 4\n",
      "this is 1 instance, current value 4\n",
      "this is 2 instance, current value 5this is 1 instance, current value 5\n",
      "\n",
      "this is 1 instance, current value 6this is 2 instance, current value 6\n",
      "\n",
      "this is 2 instance, current value 7\n",
      "this is 1 instance, current value 7\n",
      "this is 2 instance, current value 8\n",
      "this is 1 instance, current value 8\n",
      "this is 2 instance, current value 9\n",
      "this is 1 instance, current value 9\n"
     ]
    }
   ],
   "source": [
    "for t2 in threads2:\n",
    "    t2.start()"
   ]
  },
  {
   "cell_type": "code",
   "execution_count": null,
   "id": "6464f786-4e1f-4915-bfff-66b176ed247a",
   "metadata": {},
   "outputs": [],
   "source": []
  },
  {
   "cell_type": "code",
   "execution_count": null,
   "id": "0f8573f7-1595-49a7-a133-18eca9404e79",
   "metadata": {},
   "outputs": [],
   "source": []
  },
  {
   "cell_type": "code",
   "execution_count": null,
   "id": "70fdd854-46cf-4fbc-ba1d-1de84511ac26",
   "metadata": {},
   "outputs": [],
   "source": []
  }
 ],
 "metadata": {
  "kernelspec": {
   "display_name": "Python 3 (ipykernel)",
   "language": "python",
   "name": "python3"
  },
  "language_info": {
   "codemirror_mode": {
    "name": "ipython",
    "version": 3
   },
   "file_extension": ".py",
   "mimetype": "text/x-python",
   "name": "python",
   "nbconvert_exporter": "python",
   "pygments_lexer": "ipython3",
   "version": "3.10.8"
  }
 },
 "nbformat": 4,
 "nbformat_minor": 5
}
